





<!DOCTYPE html>
<html lang="en">
  <head>
    <meta charset="utf-8">
  <link rel="dns-prefetch" href="https://assets-cdn.github.com">
  <link rel="dns-prefetch" href="https://avatars0.githubusercontent.com">
  <link rel="dns-prefetch" href="https://avatars1.githubusercontent.com">
  <link rel="dns-prefetch" href="https://avatars2.githubusercontent.com">
  <link rel="dns-prefetch" href="https://avatars3.githubusercontent.com">
  <link rel="dns-prefetch" href="https://github-cloud.s3.amazonaws.com">
  <link rel="dns-prefetch" href="https://user-images.githubusercontent.com/">



  <link crossorigin="anonymous" href="https://assets-cdn.github.com/assets/frameworks-77c3b874f32e71b14cded5a120f42f5c7288fa52e0a37f2d5919fbd8bcfca63c.css" integrity="sha256-d8O4dPMucbFM3tWhIPQvXHKI+lLgo38tWRn72Lz8pjw=" media="all" rel="stylesheet" />
  <link crossorigin="anonymous" href="https://assets-cdn.github.com/assets/github-6518de102c0fb5eefed8021d369596311a18c644778f5d8d1fa7238c4b3870ba.css" integrity="sha256-ZRjeECwPte7+2AIdNpWWMRoYxkR3j12NH6cjjEs4cLo=" media="all" rel="stylesheet" />
  
  
  
  

  <meta name="viewport" content="width=device-width">
  
  <title>ipywidgets/Widget Styling.ipynb at master · jupyter-widgets/ipywidgets</title>
  <link rel="search" type="application/opensearchdescription+xml" href="/opensearch.xml" title="GitHub">
  <link rel="fluid-icon" href="https://github.com/fluidicon.png" title="GitHub">
  <meta property="fb:app_id" content="1401488693436528">

    
    <meta content="https://avatars3.githubusercontent.com/u/25869250?v=4&amp;s=400" property="og:image" /><meta content="GitHub" property="og:site_name" /><meta content="object" property="og:type" /><meta content="jupyter-widgets/ipywidgets" property="og:title" /><meta content="https://github.com/jupyter-widgets/ipywidgets" property="og:url" /><meta content="ipywidgets - IPython widgets for the Jupyter Notebook" property="og:description" />

  <link rel="assets" href="https://assets-cdn.github.com/">
  <link rel="web-socket" href="wss://live.github.com/_sockets/VjI6MTc2NjkwNDUyOjQxODczNGQ2NjNjMTZiZGNiNGExZmRiY2EwODg1MDg4MzRlYjk3MTg3M2NlMDdhMWRhZmVlNGZkZjhiYzE3ZGQ=--0c7a952c075f54e088290c1b4001c3213506b29e">
  <meta name="pjax-timeout" content="1000">
  <link rel="sudo-modal" href="/sessions/sudo_modal">
  <meta name="request-id" content="C001:1842D:704AFDA:C352F0A:59975421" data-pjax-transient>
  

  <meta name="selected-link" value="repo_source" data-pjax-transient>

  <meta name="google-site-verification" content="KT5gs8h0wvaagLKAVWq8bbeNwnZZK1r1XQysX3xurLU">
<meta name="google-site-verification" content="ZzhVyEFwb7w3e0-uOTltm8Jsck2F5StVihD0exw2fsA">
    <meta name="google-analytics" content="UA-3769691-2">

<meta content="collector.githubapp.com" name="octolytics-host" /><meta content="github" name="octolytics-app-id" /><meta content="https://collector.githubapp.com/github-external/browser_event" name="octolytics-event-url" /><meta content="C001:1842D:704AFDA:C352F0A:59975421" name="octolytics-dimension-request_id" /><meta content="iad" name="octolytics-dimension-region_edge" /><meta content="iad" name="octolytics-dimension-region_render" /><meta content="25430702" name="octolytics-actor-id" /><meta content="RDeRenzi" name="octolytics-actor-login" /><meta content="6b771280803153186b7e88a6d7166e43d2b69979854637a0f8d3fc5b265a9a2d" name="octolytics-actor-hash" />
<meta content="/&lt;user-name&gt;/&lt;repo-name&gt;/blob/show" data-pjax-transient="true" name="analytics-location" />




  <meta class="js-ga-set" name="dimension1" content="Logged In">


  

      <meta name="hostname" content="github.com">
  <meta name="user-login" content="RDeRenzi">

      <meta name="expected-hostname" content="github.com">
    <meta name="js-proxy-site-detection-payload" content="NDA2YzYxYzNjOTMyZjE0YWIyMWMzZTE2YzcxOTY4YzdhZmM0NmJkNmFkMGI5MGM4NGE3YzlhMjY3ZDZlYTc1Ynx7InJlbW90ZV9hZGRyZXNzIjoiOTEuMjUzLjg1LjExOSIsInJlcXVlc3RfaWQiOiJDMDAxOjE4NDJEOjcwNEFGREE6QzM1MkYwQTo1OTk3NTQyMSIsInRpbWVzdGFtcCI6MTUwMzA4OTY5NywiaG9zdCI6ImdpdGh1Yi5jb20ifQ==">

    <meta name="enabled-features" content="UNIVERSE_BANNER">

  <meta name="html-safe-nonce" content="df2aae7f680f1799a73512cb316b680235361dff">

  <meta http-equiv="x-pjax-version" content="c2f71c350e8e4d50355f30e7838218b8">
  

      <link href="https://github.com/jupyter-widgets/ipywidgets/commits/master.atom" rel="alternate" title="Recent Commits to ipywidgets:master" type="application/atom+xml">

  <meta name="description" content="ipywidgets - IPython widgets for the Jupyter Notebook">
  <meta name="go-import" content="github.com/jupyter-widgets/ipywidgets git https://github.com/jupyter-widgets/ipywidgets.git">

  <meta content="25869250" name="octolytics-dimension-user_id" /><meta content="jupyter-widgets" name="octolytics-dimension-user_login" /><meta content="34138622" name="octolytics-dimension-repository_id" /><meta content="jupyter-widgets/ipywidgets" name="octolytics-dimension-repository_nwo" /><meta content="true" name="octolytics-dimension-repository_public" /><meta content="false" name="octolytics-dimension-repository_is_fork" /><meta content="34138622" name="octolytics-dimension-repository_network_root_id" /><meta content="jupyter-widgets/ipywidgets" name="octolytics-dimension-repository_network_root_nwo" /><meta content="false" name="octolytics-dimension-repository_explore_github_marketplace_ci_cta_shown" />


    <link rel="canonical" href="https://github.com/jupyter-widgets/ipywidgets/blob/master/docs/source/examples/Widget%20Styling.ipynb" data-pjax-transient>


  <meta name="browser-stats-url" content="https://api.github.com/_private/browser/stats">

  <meta name="browser-errors-url" content="https://api.github.com/_private/browser/errors">

  <link rel="mask-icon" href="https://assets-cdn.github.com/pinned-octocat.svg" color="#000000">
  <link rel="icon" type="image/x-icon" href="https://assets-cdn.github.com/favicon.ico">

<meta name="theme-color" content="#1e2327">



  </head>

  <body class="logged-in env-production page-blob">
    

  <div class="position-relative js-header-wrapper ">
    <a href="#start-of-content" tabindex="1" class="bg-black text-white p-3 show-on-focus js-skip-to-content">Skip to content</a>
    <div id="js-pjax-loader-bar" class="pjax-loader-bar"><div class="progress"></div></div>

    
    
    



        
<div class="header" role="banner">
  <div class="container-lg px-3 clearfix">
    <div class="d-flex flex-justify-between">
      <div class="d-flex">
        <a class="header-logo-invertocat" href="https://github.com/" data-hotkey="g d" aria-label="Homepage" data-ga-click="Header, go to dashboard, icon:logo">
  <svg aria-hidden="true" class="octicon octicon-mark-github" height="32" version="1.1" viewBox="0 0 16 16" width="32"><path fill-rule="evenodd" d="M8 0C3.58 0 0 3.58 0 8c0 3.54 2.29 6.53 5.47 7.59.4.07.55-.17.55-.38 0-.19-.01-.82-.01-1.49-2.01.37-2.53-.49-2.69-.94-.09-.23-.48-.94-.82-1.13-.28-.15-.68-.52-.01-.53.63-.01 1.08.58 1.23.82.72 1.21 1.87.87 2.33.66.07-.52.28-.87.51-1.07-1.78-.2-3.64-.89-3.64-3.95 0-.87.31-1.59.82-2.15-.08-.2-.36-1.02.08-2.12 0 0 .67-.21 2.2.82.64-.18 1.32-.27 2-.27.68 0 1.36.09 2 .27 1.53-1.04 2.2-.82 2.2-.82.44 1.1.16 1.92.08 2.12.51.56.82 1.27.82 2.15 0 3.07-1.87 3.75-3.65 3.95.29.25.54.73.54 1.48 0 1.07-.01 1.93-.01 2.2 0 .21.15.46.55.38A8.013 8.013 0 0 0 16 8c0-4.42-3.58-8-8-8z"/></svg>
</a>


            <div class="mr-2">
              <div class="header-search scoped-search site-scoped-search js-site-search" role="search">
  <!-- '"` --><!-- </textarea></xmp> --></option></form><form accept-charset="UTF-8" action="/jupyter-widgets/ipywidgets/search" class="js-site-search-form" data-scoped-search-url="/jupyter-widgets/ipywidgets/search" data-unscoped-search-url="/search" method="get"><div style="margin:0;padding:0;display:inline"><input name="utf8" type="hidden" value="&#x2713;" /></div>
    <label class="form-control header-search-wrapper js-chromeless-input-container">
        <a href="/jupyter-widgets/ipywidgets/blob/master/docs/source/examples/Widget%20Styling.ipynb" class="header-search-scope no-underline">This repository</a>
      <input type="text"
        class="form-control header-search-input js-site-search-focus js-site-search-field is-clearable"
        data-hotkey="s"
        name="q"
        value=""
        placeholder="Search"
        aria-label="Search this repository"
        data-unscoped-placeholder="Search GitHub"
        data-scoped-placeholder="Search"
        autocapitalize="off">
        <input type="hidden" class="js-site-search-type-field" name="type" >
    </label>
</form></div>

            </div>

          <ul class="d-flex list-style-none" role="navigation">
            <li>
              <a href="/pulls" aria-label="Pull requests you created" class="js-selected-navigation-item header-navlink" data-ga-click="Header, click, Nav menu - item:pulls context:user" data-hotkey="g p" data-selected-links="/pulls /pulls/assigned /pulls/mentioned /pulls">
                Pull requests
</a>            </li>
            <li>
              <a href="/issues" aria-label="Issues you created" class="js-selected-navigation-item header-navlink" data-ga-click="Header, click, Nav menu - item:issues context:user" data-hotkey="g i" data-selected-links="/issues /issues/assigned /issues/mentioned /issues">
                Issues
</a>            </li>
                <li>
                  <a href="/marketplace" class="js-selected-navigation-item header-navlink" data-ga-click="Header, click, Nav menu - item:marketplace context:user" data-selected-links=" /marketplace">
                    Marketplace
</a>                </li>
              <li>
                <a class="header-navlink" href="https://gist.github.com/" data-ga-click="Header, go to gist, text:gist">Gist</a>
              </li>
          </ul>
      </div>

      <div class="d-flex">
        
<ul class="d-flex user-nav list-style-none" id="user-links">
  <li class="dropdown js-menu-container">
    

  </li>

  <li class="dropdown js-menu-container">
    <a class="header-navlink tooltipped tooltipped-s js-menu-target" href="/new"
       aria-label="Create new…"
       aria-expanded="false"
       aria-haspopup="true"
       data-ga-click="Header, create new, icon:add">
      <svg aria-hidden="true" class="octicon octicon-plus float-left" height="16" version="1.1" viewBox="0 0 12 16" width="12"><path fill-rule="evenodd" d="M12 9H7v5H5V9H0V7h5V2h2v5h5z"/></svg>
      <span class="dropdown-caret"></span>
    </a>

    <div class="dropdown-menu-content js-menu-content">
      <ul class="dropdown-menu dropdown-menu-sw">
        
<a class="dropdown-item" href="/new" data-ga-click="Header, create new repository">
  New repository
</a>

  <a class="dropdown-item" href="/new/import" data-ga-click="Header, import a repository">
    Import repository
  </a>

<a class="dropdown-item" href="https://gist.github.com/" data-ga-click="Header, create new gist">
  New gist
</a>

  <a class="dropdown-item" href="/organizations/new" data-ga-click="Header, create new organization">
    New organization
  </a>



  <div class="dropdown-divider"></div>
  <div class="dropdown-header">
    <span title="jupyter-widgets/ipywidgets">This repository</span>
  </div>
    <a class="dropdown-item" href="/jupyter-widgets/ipywidgets/issues/new" data-ga-click="Header, create new issue">
      New issue
    </a>

      </ul>
    </div>
  </li>

  <li class="dropdown js-menu-container">
    <a class="header-navlink name tooltipped tooltipped-sw js-menu-target" href="/RDeRenzi"
       aria-label="View profile and more"
       aria-expanded="false"
       aria-haspopup="true"
       data-ga-click="Header, show menu, icon:avatar">
      <img alt="@RDeRenzi" class="avatar" src="https://avatars1.githubusercontent.com/u/25430702?v=4&amp;s=40" height="20" width="20">
      <span class="dropdown-caret"></span>
    </a>

    <div class="dropdown-menu-content js-menu-content">
      <div class="dropdown-menu dropdown-menu-sw">
        <div class="dropdown-header header-nav-current-user css-truncate">
          Signed in as <strong class="css-truncate-target">RDeRenzi</strong>
        </div>

        <div class="dropdown-divider"></div>

        <a class="dropdown-item" href="/RDeRenzi" data-ga-click="Header, go to profile, text:your profile">
          Your profile
        </a>
        <a class="dropdown-item" href="/RDeRenzi?tab=stars" data-ga-click="Header, go to starred repos, text:your stars">
          Your stars
        </a>
        <a class="dropdown-item" href="/explore" data-ga-click="Header, go to explore, text:explore">
          Explore
        </a>
        <a class="dropdown-item" href="https://help.github.com" data-ga-click="Header, go to help, text:help">
          Help
        </a>

        <div class="dropdown-divider"></div>

        <a class="dropdown-item" href="/settings/profile" data-ga-click="Header, go to settings, icon:settings">
          Settings
        </a>

        <!-- '"` --><!-- </textarea></xmp> --></option></form><form accept-charset="UTF-8" action="/logout" class="logout-form" method="post"><div style="margin:0;padding:0;display:inline"><input name="utf8" type="hidden" value="&#x2713;" /><input name="authenticity_token" type="hidden" value="TH/dZCRhUP0Ed0xrBDj3xvwoBDf509k6qtcuODkCX1EyFZr3w6+C8VikRVdhLhRFb+07gggt3JxWGCnxkM0EBA==" /></div>
          <button type="submit" class="dropdown-item dropdown-signout" data-ga-click="Header, sign out, icon:logout">
            Sign out
          </button>
</form>      </div>
    </div>
  </li>
</ul>


        <!-- '"` --><!-- </textarea></xmp> --></option></form><form accept-charset="UTF-8" action="/logout" class="sr-only right-0" method="post"><div style="margin:0;padding:0;display:inline"><input name="utf8" type="hidden" value="&#x2713;" /><input name="authenticity_token" type="hidden" value="UVOZ3jZD3nnSFOKy8d81ifyt1+ZLS7Uad88OPjU6HDsvOd5N0Y0MdY7H646UydYKb2joU7q1sLyLAAn3nPVHbg==" /></div>
          <button type="submit" class="dropdown-item dropdown-signout" data-ga-click="Header, sign out, icon:logout">
            Sign out
          </button>
</form>      </div>
    </div>
  </div>
</div>


      

  </div>

  <div id="start-of-content" class="show-on-focus"></div>

    <div id="js-flash-container">
</div>



  <div role="main">
        <div itemscope itemtype="http://schema.org/SoftwareSourceCode">
    <div id="js-repo-pjax-container" data-pjax-container>
      



  



    <div class="pagehead repohead instapaper_ignore readability-menu experiment-repo-nav">
      <div class="container repohead-details-container">

        <ul class="pagehead-actions">
  <li>
        <!-- '"` --><!-- </textarea></xmp> --></option></form><form accept-charset="UTF-8" action="/notifications/subscribe" class="js-social-container" data-autosubmit="true" data-remote="true" method="post"><div style="margin:0;padding:0;display:inline"><input name="utf8" type="hidden" value="&#x2713;" /><input name="authenticity_token" type="hidden" value="xFa73jeUxxgKUHmTD6qzedZtBQ7Ai01NIB7+zfwZ9qoQ2qj9SQXMxvyCRNpXXaL+B9dCgbYjb+sWkELebBSicw==" /></div>      <input class="form-control" id="repository_id" name="repository_id" type="hidden" value="34138622" />

        <div class="select-menu js-menu-container js-select-menu">
          <a href="/jupyter-widgets/ipywidgets/subscription"
            class="btn btn-sm btn-with-count select-menu-button js-menu-target"
            role="button"
            aria-haspopup="true"
            aria-expanded="false"
            aria-label="Toggle repository notifications menu"
            data-ga-click="Repository, click Watch settings, action:blob#show">
            <span class="js-select-button">
                <svg aria-hidden="true" class="octicon octicon-eye" height="16" version="1.1" viewBox="0 0 16 16" width="16"><path fill-rule="evenodd" d="M8.06 2C3 2 0 8 0 8s3 6 8.06 6C13 14 16 8 16 8s-3-6-7.94-6zM8 12c-2.2 0-4-1.78-4-4 0-2.2 1.8-4 4-4 2.22 0 4 1.8 4 4 0 2.22-1.78 4-4 4zm2-4c0 1.11-.89 2-2 2-1.11 0-2-.89-2-2 0-1.11.89-2 2-2 1.11 0 2 .89 2 2z"/></svg>
                Watch
            </span>
          </a>
            <a class="social-count js-social-count"
              href="/jupyter-widgets/ipywidgets/watchers"
              aria-label="43 users are watching this repository">
              43
            </a>

        <div class="select-menu-modal-holder">
          <div class="select-menu-modal subscription-menu-modal js-menu-content">
            <div class="select-menu-header js-navigation-enable" tabindex="-1">
              <svg aria-label="Close" class="octicon octicon-x js-menu-close" height="16" role="img" version="1.1" viewBox="0 0 12 16" width="12"><path fill-rule="evenodd" d="M7.48 8l3.75 3.75-1.48 1.48L6 9.48l-3.75 3.75-1.48-1.48L4.52 8 .77 4.25l1.48-1.48L6 6.52l3.75-3.75 1.48 1.48z"/></svg>
              <span class="select-menu-title">Notifications</span>
            </div>

              <div class="select-menu-list js-navigation-container" role="menu">

                <div class="select-menu-item js-navigation-item selected" role="menuitem" tabindex="0">
                  <svg aria-hidden="true" class="octicon octicon-check select-menu-item-icon" height="16" version="1.1" viewBox="0 0 12 16" width="12"><path fill-rule="evenodd" d="M12 5l-8 8-4-4 1.5-1.5L4 10l6.5-6.5z"/></svg>
                  <div class="select-menu-item-text">
                    <input checked="checked" id="do_included" name="do" type="radio" value="included" />
                    <span class="select-menu-item-heading">Not watching</span>
                    <span class="description">Be notified when participating or @mentioned.</span>
                    <span class="js-select-button-text hidden-select-button-text">
                      <svg aria-hidden="true" class="octicon octicon-eye" height="16" version="1.1" viewBox="0 0 16 16" width="16"><path fill-rule="evenodd" d="M8.06 2C3 2 0 8 0 8s3 6 8.06 6C13 14 16 8 16 8s-3-6-7.94-6zM8 12c-2.2 0-4-1.78-4-4 0-2.2 1.8-4 4-4 2.22 0 4 1.8 4 4 0 2.22-1.78 4-4 4zm2-4c0 1.11-.89 2-2 2-1.11 0-2-.89-2-2 0-1.11.89-2 2-2 1.11 0 2 .89 2 2z"/></svg>
                      Watch
                    </span>
                  </div>
                </div>

                <div class="select-menu-item js-navigation-item " role="menuitem" tabindex="0">
                  <svg aria-hidden="true" class="octicon octicon-check select-menu-item-icon" height="16" version="1.1" viewBox="0 0 12 16" width="12"><path fill-rule="evenodd" d="M12 5l-8 8-4-4 1.5-1.5L4 10l6.5-6.5z"/></svg>
                  <div class="select-menu-item-text">
                    <input id="do_subscribed" name="do" type="radio" value="subscribed" />
                    <span class="select-menu-item-heading">Watching</span>
                    <span class="description">Be notified of all conversations.</span>
                    <span class="js-select-button-text hidden-select-button-text">
                      <svg aria-hidden="true" class="octicon octicon-eye" height="16" version="1.1" viewBox="0 0 16 16" width="16"><path fill-rule="evenodd" d="M8.06 2C3 2 0 8 0 8s3 6 8.06 6C13 14 16 8 16 8s-3-6-7.94-6zM8 12c-2.2 0-4-1.78-4-4 0-2.2 1.8-4 4-4 2.22 0 4 1.8 4 4 0 2.22-1.78 4-4 4zm2-4c0 1.11-.89 2-2 2-1.11 0-2-.89-2-2 0-1.11.89-2 2-2 1.11 0 2 .89 2 2z"/></svg>
                        Unwatch
                    </span>
                  </div>
                </div>

                <div class="select-menu-item js-navigation-item " role="menuitem" tabindex="0">
                  <svg aria-hidden="true" class="octicon octicon-check select-menu-item-icon" height="16" version="1.1" viewBox="0 0 12 16" width="12"><path fill-rule="evenodd" d="M12 5l-8 8-4-4 1.5-1.5L4 10l6.5-6.5z"/></svg>
                  <div class="select-menu-item-text">
                    <input id="do_ignore" name="do" type="radio" value="ignore" />
                    <span class="select-menu-item-heading">Ignoring</span>
                    <span class="description">Never be notified.</span>
                    <span class="js-select-button-text hidden-select-button-text">
                      <svg aria-hidden="true" class="octicon octicon-mute" height="16" version="1.1" viewBox="0 0 16 16" width="16"><path fill-rule="evenodd" d="M8 2.81v10.38c0 .67-.81 1-1.28.53L3 10H1c-.55 0-1-.45-1-1V7c0-.55.45-1 1-1h2l3.72-3.72C7.19 1.81 8 2.14 8 2.81zm7.53 3.22l-1.06-1.06-1.97 1.97-1.97-1.97-1.06 1.06L11.44 8 9.47 9.97l1.06 1.06 1.97-1.97 1.97 1.97 1.06-1.06L13.56 8l1.97-1.97z"/></svg>
                        Stop ignoring
                    </span>
                  </div>
                </div>

              </div>

            </div>
          </div>
        </div>
</form>
  </li>

  <li>
    
  <div class="js-toggler-container js-social-container starring-container ">
    <!-- '"` --><!-- </textarea></xmp> --></option></form><form accept-charset="UTF-8" action="/jupyter-widgets/ipywidgets/unstar" class="starred" data-remote="true" method="post"><div style="margin:0;padding:0;display:inline"><input name="utf8" type="hidden" value="&#x2713;" /><input name="authenticity_token" type="hidden" value="zEHXnV9zaVaOsRQuS8DIHFOH55PpDw7rpi8MHtJ3YdgVFW5YM7Y9G+wfauTryercsAYC6FbPoULprEIWwu57Dw==" /></div>
      <button
        type="submit"
        class="btn btn-sm btn-with-count js-toggler-target"
        aria-label="Unstar this repository" title="Unstar jupyter-widgets/ipywidgets"
        data-ga-click="Repository, click unstar button, action:blob#show; text:Unstar">
        <svg aria-hidden="true" class="octicon octicon-star" height="16" version="1.1" viewBox="0 0 14 16" width="14"><path fill-rule="evenodd" d="M14 6l-4.9-.64L7 1 4.9 5.36 0 6l3.6 3.26L2.67 14 7 11.67 11.33 14l-.93-4.74z"/></svg>
        Unstar
      </button>
        <a class="social-count js-social-count" href="/jupyter-widgets/ipywidgets/stargazers"
           aria-label="653 users starred this repository">
          653
        </a>
</form>
    <!-- '"` --><!-- </textarea></xmp> --></option></form><form accept-charset="UTF-8" action="/jupyter-widgets/ipywidgets/star" class="unstarred" data-remote="true" method="post"><div style="margin:0;padding:0;display:inline"><input name="utf8" type="hidden" value="&#x2713;" /><input name="authenticity_token" type="hidden" value="3hbHf78LqHzXfEawTrP5Imp5wdxMk9SxsN98gp8tXoVgE2yuBngqTKhVrC2p8XptjT6f0Jayo9UFmmUxPtOhUw==" /></div>
      <button
        type="submit"
        class="btn btn-sm btn-with-count js-toggler-target"
        aria-label="Star this repository" title="Star jupyter-widgets/ipywidgets"
        data-ga-click="Repository, click star button, action:blob#show; text:Star">
        <svg aria-hidden="true" class="octicon octicon-star" height="16" version="1.1" viewBox="0 0 14 16" width="14"><path fill-rule="evenodd" d="M14 6l-4.9-.64L7 1 4.9 5.36 0 6l3.6 3.26L2.67 14 7 11.67 11.33 14l-.93-4.74z"/></svg>
        Star
      </button>
        <a class="social-count js-social-count" href="/jupyter-widgets/ipywidgets/stargazers"
           aria-label="653 users starred this repository">
          653
        </a>
</form>  </div>

  </li>

  <li>
          <!-- '"` --><!-- </textarea></xmp> --></option></form><form accept-charset="UTF-8" action="/jupyter-widgets/ipywidgets/fork" class="btn-with-count" method="post"><div style="margin:0;padding:0;display:inline"><input name="utf8" type="hidden" value="&#x2713;" /><input name="authenticity_token" type="hidden" value="cDyI3k1TyfbDn84YDPT+afh4WYx+brLFcyfm7y/LXoLQAAEhKp39imaaPxrk1BA9VFSquBR78Ndpam+giji+zw==" /></div>
            <button
                type="submit"
                class="btn btn-sm btn-with-count"
                data-ga-click="Repository, show fork modal, action:blob#show; text:Fork"
                title="Fork your own copy of jupyter-widgets/ipywidgets to your account"
                aria-label="Fork your own copy of jupyter-widgets/ipywidgets to your account">
              <svg aria-hidden="true" class="octicon octicon-repo-forked" height="16" version="1.1" viewBox="0 0 10 16" width="10"><path fill-rule="evenodd" d="M8 1a1.993 1.993 0 0 0-1 3.72V6L5 8 3 6V4.72A1.993 1.993 0 0 0 2 1a1.993 1.993 0 0 0-1 3.72V6.5l3 3v1.78A1.993 1.993 0 0 0 5 15a1.993 1.993 0 0 0 1-3.72V9.5l3-3V4.72A1.993 1.993 0 0 0 8 1zM2 4.2C1.34 4.2.8 3.65.8 3c0-.65.55-1.2 1.2-1.2.65 0 1.2.55 1.2 1.2 0 .65-.55 1.2-1.2 1.2zm3 10c-.66 0-1.2-.55-1.2-1.2 0-.65.55-1.2 1.2-1.2.65 0 1.2.55 1.2 1.2 0 .65-.55 1.2-1.2 1.2zm3-10c-.66 0-1.2-.55-1.2-1.2 0-.65.55-1.2 1.2-1.2.65 0 1.2.55 1.2 1.2 0 .65-.55 1.2-1.2 1.2z"/></svg>
              Fork
            </button>
</form>
    <a href="/jupyter-widgets/ipywidgets/network" class="social-count"
       aria-label="263 users forked this repository">
      263
    </a>
  </li>
</ul>

        <h1 class="public ">
  <svg aria-hidden="true" class="octicon octicon-repo" height="16" version="1.1" viewBox="0 0 12 16" width="12"><path fill-rule="evenodd" d="M4 9H3V8h1v1zm0-3H3v1h1V6zm0-2H3v1h1V4zm0-2H3v1h1V2zm8-1v12c0 .55-.45 1-1 1H6v2l-1.5-1.5L3 16v-2H1c-.55 0-1-.45-1-1V1c0-.55.45-1 1-1h10c.55 0 1 .45 1 1zm-1 10H1v2h2v-1h3v1h5v-2zm0-10H2v9h9V1z"/></svg>
  <span class="author" itemprop="author"><a href="/jupyter-widgets" class="url fn" rel="author">jupyter-widgets</a></span><!--
--><span class="path-divider">/</span><!--
--><strong itemprop="name"><a href="/jupyter-widgets/ipywidgets" data-pjax="#js-repo-pjax-container">ipywidgets</a></strong>

</h1>

      </div>
      <div class="container">
        
<nav class="reponav js-repo-nav js-sidenav-container-pjax"
     itemscope
     itemtype="http://schema.org/BreadcrumbList"
     role="navigation"
     data-pjax="#js-repo-pjax-container">

  <span itemscope itemtype="http://schema.org/ListItem" itemprop="itemListElement">
    <a href="/jupyter-widgets/ipywidgets" class="js-selected-navigation-item selected reponav-item" data-hotkey="g c" data-selected-links="repo_source repo_downloads repo_commits repo_releases repo_tags repo_branches /jupyter-widgets/ipywidgets" itemprop="url">
      <svg aria-hidden="true" class="octicon octicon-code" height="16" version="1.1" viewBox="0 0 14 16" width="14"><path fill-rule="evenodd" d="M9.5 3L8 4.5 11.5 8 8 11.5 9.5 13 14 8 9.5 3zm-5 0L0 8l4.5 5L6 11.5 2.5 8 6 4.5 4.5 3z"/></svg>
      <span itemprop="name">Code</span>
      <meta itemprop="position" content="1">
</a>  </span>

    <span itemscope itemtype="http://schema.org/ListItem" itemprop="itemListElement">
      <a href="/jupyter-widgets/ipywidgets/issues" class="js-selected-navigation-item reponav-item" data-hotkey="g i" data-selected-links="repo_issues repo_labels repo_milestones /jupyter-widgets/ipywidgets/issues" itemprop="url">
        <svg aria-hidden="true" class="octicon octicon-issue-opened" height="16" version="1.1" viewBox="0 0 14 16" width="14"><path fill-rule="evenodd" d="M7 2.3c3.14 0 5.7 2.56 5.7 5.7s-2.56 5.7-5.7 5.7A5.71 5.71 0 0 1 1.3 8c0-3.14 2.56-5.7 5.7-5.7zM7 1C3.14 1 0 4.14 0 8s3.14 7 7 7 7-3.14 7-7-3.14-7-7-7zm1 3H6v5h2V4zm0 6H6v2h2v-2z"/></svg>
        <span itemprop="name">Issues</span>
        <span class="Counter">92</span>
        <meta itemprop="position" content="2">
</a>    </span>

  <span itemscope itemtype="http://schema.org/ListItem" itemprop="itemListElement">
    <a href="/jupyter-widgets/ipywidgets/pulls" class="js-selected-navigation-item reponav-item" data-hotkey="g p" data-selected-links="repo_pulls /jupyter-widgets/ipywidgets/pulls" itemprop="url">
      <svg aria-hidden="true" class="octicon octicon-git-pull-request" height="16" version="1.1" viewBox="0 0 12 16" width="12"><path fill-rule="evenodd" d="M11 11.28V5c-.03-.78-.34-1.47-.94-2.06C9.46 2.35 8.78 2.03 8 2H7V0L4 3l3 3V4h1c.27.02.48.11.69.31.21.2.3.42.31.69v6.28A1.993 1.993 0 0 0 10 15a1.993 1.993 0 0 0 1-3.72zm-1 2.92c-.66 0-1.2-.55-1.2-1.2 0-.65.55-1.2 1.2-1.2.65 0 1.2.55 1.2 1.2 0 .65-.55 1.2-1.2 1.2zM4 3c0-1.11-.89-2-2-2a1.993 1.993 0 0 0-1 3.72v6.56A1.993 1.993 0 0 0 2 15a1.993 1.993 0 0 0 1-3.72V4.72c.59-.34 1-.98 1-1.72zm-.8 10c0 .66-.55 1.2-1.2 1.2-.65 0-1.2-.55-1.2-1.2 0-.65.55-1.2 1.2-1.2.65 0 1.2.55 1.2 1.2zM2 4.2C1.34 4.2.8 3.65.8 3c0-.65.55-1.2 1.2-1.2.65 0 1.2.55 1.2 1.2 0 .65-.55 1.2-1.2 1.2z"/></svg>
      <span itemprop="name">Pull requests</span>
      <span class="Counter">7</span>
      <meta itemprop="position" content="3">
</a>  </span>

    <a href="/jupyter-widgets/ipywidgets/projects" class="js-selected-navigation-item reponav-item" data-selected-links="repo_projects new_repo_project repo_project /jupyter-widgets/ipywidgets/projects">
      <svg aria-hidden="true" class="octicon octicon-project" height="16" version="1.1" viewBox="0 0 15 16" width="15"><path fill-rule="evenodd" d="M10 12h3V2h-3v10zm-4-2h3V2H6v8zm-4 4h3V2H2v12zm-1 1h13V1H1v14zM14 0H1a1 1 0 0 0-1 1v14a1 1 0 0 0 1 1h13a1 1 0 0 0 1-1V1a1 1 0 0 0-1-1z"/></svg>
      Projects
      <span class="Counter" >0</span>
</a>
    <a href="/jupyter-widgets/ipywidgets/wiki" class="js-selected-navigation-item reponav-item" data-hotkey="g w" data-selected-links="repo_wiki /jupyter-widgets/ipywidgets/wiki">
      <svg aria-hidden="true" class="octicon octicon-book" height="16" version="1.1" viewBox="0 0 16 16" width="16"><path fill-rule="evenodd" d="M3 5h4v1H3V5zm0 3h4V7H3v1zm0 2h4V9H3v1zm11-5h-4v1h4V5zm0 2h-4v1h4V7zm0 2h-4v1h4V9zm2-6v9c0 .55-.45 1-1 1H9.5l-1 1-1-1H2c-.55 0-1-.45-1-1V3c0-.55.45-1 1-1h5.5l1 1 1-1H15c.55 0 1 .45 1 1zm-8 .5L7.5 3H2v9h6V3.5zm7-.5H9.5l-.5.5V12h6V3z"/></svg>
      Wiki
</a>

    <div class="reponav-dropdown js-menu-container">
      <button type="button" class="btn-link reponav-item reponav-dropdown js-menu-target " data-no-toggle aria-expanded="false" aria-haspopup="true">
        Insights
        <svg aria-hidden="true" class="octicon octicon-triangle-down v-align-middle text-gray" height="11" version="1.1" viewBox="0 0 12 16" width="8"><path fill-rule="evenodd" d="M0 5l6 6 6-6z"/></svg>
      </button>
      <div class="dropdown-menu-content js-menu-content">
        <div class="dropdown-menu dropdown-menu-sw">
          <a class="dropdown-item" href="/jupyter-widgets/ipywidgets/pulse" data-skip-pjax>
            <svg aria-hidden="true" class="octicon octicon-pulse" height="16" version="1.1" viewBox="0 0 14 16" width="14"><path fill-rule="evenodd" d="M11.5 8L8.8 5.4 6.6 8.5 5.5 1.6 2.38 8H0v2h3.6l.9-1.8.9 5.4L9 8.5l1.6 1.5H14V8z"/></svg>
            Pulse
          </a>
          <a class="dropdown-item" href="/jupyter-widgets/ipywidgets/graphs" data-skip-pjax>
            <svg aria-hidden="true" class="octicon octicon-graph" height="16" version="1.1" viewBox="0 0 16 16" width="16"><path fill-rule="evenodd" d="M16 14v1H0V0h1v14h15zM5 13H3V8h2v5zm4 0H7V3h2v10zm4 0h-2V6h2v7z"/></svg>
            Graphs
          </a>
        </div>
      </div>
    </div>
</nav>

      </div>
    </div>

<div class="container new-discussion-timeline experiment-repo-nav">
  <div class="repository-content">

    
  <a href="/jupyter-widgets/ipywidgets/blob/67af059687205f10a339472f72cd86d2b34948c2/docs/source/examples/Widget%20Styling.ipynb" class="d-none js-permalink-shortcut" data-hotkey="y">Permalink</a>

  <!-- blob contrib key: blob_contributors:v21:84d6dff1a91e65f4a5987c6526f479e5 -->

  <div class="file-navigation js-zeroclipboard-container">
    
<div class="select-menu branch-select-menu js-menu-container js-select-menu float-left">
  <button class=" btn btn-sm select-menu-button js-menu-target css-truncate" data-hotkey="w"
    
    type="button" aria-label="Switch branches or tags" aria-expanded="false" aria-haspopup="true">
      <i>Branch:</i>
      <span class="js-select-button css-truncate-target">master</span>
  </button>

  <div class="select-menu-modal-holder js-menu-content js-navigation-container" data-pjax>

    <div class="select-menu-modal">
      <div class="select-menu-header">
        <svg aria-label="Close" class="octicon octicon-x js-menu-close" height="16" role="img" version="1.1" viewBox="0 0 12 16" width="12"><path fill-rule="evenodd" d="M7.48 8l3.75 3.75-1.48 1.48L6 9.48l-3.75 3.75-1.48-1.48L4.52 8 .77 4.25l1.48-1.48L6 6.52l3.75-3.75 1.48 1.48z"/></svg>
        <span class="select-menu-title">Switch branches/tags</span>
      </div>

      <div class="select-menu-filters">
        <div class="select-menu-text-filter">
          <input type="text" aria-label="Filter branches/tags" id="context-commitish-filter-field" class="form-control js-filterable-field js-navigation-enable" placeholder="Filter branches/tags">
        </div>
        <div class="select-menu-tabs">
          <ul>
            <li class="select-menu-tab">
              <a href="#" data-tab-filter="branches" data-filter-placeholder="Filter branches/tags" class="js-select-menu-tab" role="tab">Branches</a>
            </li>
            <li class="select-menu-tab">
              <a href="#" data-tab-filter="tags" data-filter-placeholder="Find a tag…" class="js-select-menu-tab" role="tab">Tags</a>
            </li>
          </ul>
        </div>
      </div>

      <div class="select-menu-list select-menu-tab-bucket js-select-menu-tab-bucket" data-tab-filter="branches" role="menu">

        <div data-filterable-for="context-commitish-filter-field" data-filterable-type="substring">


            <a class="select-menu-item js-navigation-item js-navigation-open "
               href="/jupyter-widgets/ipywidgets/blob/5.x/docs/source/examples/Widget%20Styling.ipynb"
               data-name="5.x"
               data-skip-pjax="true"
               rel="nofollow">
              <svg aria-hidden="true" class="octicon octicon-check select-menu-item-icon" height="16" version="1.1" viewBox="0 0 12 16" width="12"><path fill-rule="evenodd" d="M12 5l-8 8-4-4 1.5-1.5L4 10l6.5-6.5z"/></svg>
              <span class="select-menu-item-text css-truncate-target js-select-menu-filter-text">
                5.x
              </span>
            </a>
            <a class="select-menu-item js-navigation-item js-navigation-open "
               href="/jupyter-widgets/ipywidgets/blob/6.x/docs/source/examples/Widget%20Styling.ipynb"
               data-name="6.x"
               data-skip-pjax="true"
               rel="nofollow">
              <svg aria-hidden="true" class="octicon octicon-check select-menu-item-icon" height="16" version="1.1" viewBox="0 0 12 16" width="12"><path fill-rule="evenodd" d="M12 5l-8 8-4-4 1.5-1.5L4 10l6.5-6.5z"/></svg>
              <span class="select-menu-item-text css-truncate-target js-select-menu-filter-text">
                6.x
              </span>
            </a>
            <a class="select-menu-item js-navigation-item js-navigation-open "
               href="/jupyter-widgets/ipywidgets/blob/jlab0.17/docs/source/examples/Widget%20Styling.ipynb"
               data-name="jlab0.17"
               data-skip-pjax="true"
               rel="nofollow">
              <svg aria-hidden="true" class="octicon octicon-check select-menu-item-icon" height="16" version="1.1" viewBox="0 0 12 16" width="12"><path fill-rule="evenodd" d="M12 5l-8 8-4-4 1.5-1.5L4 10l6.5-6.5z"/></svg>
              <span class="select-menu-item-text css-truncate-target js-select-menu-filter-text">
                jlab0.17
              </span>
            </a>
            <a class="select-menu-item js-navigation-item js-navigation-open selected"
               href="/jupyter-widgets/ipywidgets/blob/master/docs/source/examples/Widget%20Styling.ipynb"
               data-name="master"
               data-skip-pjax="true"
               rel="nofollow">
              <svg aria-hidden="true" class="octicon octicon-check select-menu-item-icon" height="16" version="1.1" viewBox="0 0 12 16" width="12"><path fill-rule="evenodd" d="M12 5l-8 8-4-4 1.5-1.5L4 10l6.5-6.5z"/></svg>
              <span class="select-menu-item-text css-truncate-target js-select-menu-filter-text">
                master
              </span>
            </a>
            <a class="select-menu-item js-navigation-item js-navigation-open "
               href="/jupyter-widgets/ipywidgets/blob/p2/docs/source/examples/Widget%20Styling.ipynb"
               data-name="p2"
               data-skip-pjax="true"
               rel="nofollow">
              <svg aria-hidden="true" class="octicon octicon-check select-menu-item-icon" height="16" version="1.1" viewBox="0 0 12 16" width="12"><path fill-rule="evenodd" d="M12 5l-8 8-4-4 1.5-1.5L4 10l6.5-6.5z"/></svg>
              <span class="select-menu-item-text css-truncate-target js-select-menu-filter-text">
                p2
              </span>
            </a>
            <a class="select-menu-item js-navigation-item js-navigation-open "
               href="/jupyter-widgets/ipywidgets/blob/revert-1402-fix-missing-css-in-nbextension/docs/source/examples/Widget%20Styling.ipynb"
               data-name="revert-1402-fix-missing-css-in-nbextension"
               data-skip-pjax="true"
               rel="nofollow">
              <svg aria-hidden="true" class="octicon octicon-check select-menu-item-icon" height="16" version="1.1" viewBox="0 0 12 16" width="12"><path fill-rule="evenodd" d="M12 5l-8 8-4-4 1.5-1.5L4 10l6.5-6.5z"/></svg>
              <span class="select-menu-item-text css-truncate-target js-select-menu-filter-text">
                revert-1402-fix-missing-css-in-nbextension
              </span>
            </a>
        </div>

          <div class="select-menu-no-results">Nothing to show</div>
      </div>

      <div class="select-menu-list select-menu-tab-bucket js-select-menu-tab-bucket" data-tab-filter="tags">
        <div data-filterable-for="context-commitish-filter-field" data-filterable-type="substring">


            <a class="select-menu-item js-navigation-item js-navigation-open "
              href="/jupyter-widgets/ipywidgets/tree/v7.0.0a1/docs/source/examples/Widget%20Styling.ipynb"
              data-name="v7.0.0a1"
              data-skip-pjax="true"
              rel="nofollow">
              <svg aria-hidden="true" class="octicon octicon-check select-menu-item-icon" height="16" version="1.1" viewBox="0 0 12 16" width="12"><path fill-rule="evenodd" d="M12 5l-8 8-4-4 1.5-1.5L4 10l6.5-6.5z"/></svg>
              <span class="select-menu-item-text css-truncate-target" title="v7.0.0a1">
                v7.0.0a1
              </span>
            </a>
            <a class="select-menu-item js-navigation-item js-navigation-open "
              href="/jupyter-widgets/ipywidgets/tree/v7.0.0a0/docs/source/examples/Widget%20Styling.ipynb"
              data-name="v7.0.0a0"
              data-skip-pjax="true"
              rel="nofollow">
              <svg aria-hidden="true" class="octicon octicon-check select-menu-item-icon" height="16" version="1.1" viewBox="0 0 12 16" width="12"><path fill-rule="evenodd" d="M12 5l-8 8-4-4 1.5-1.5L4 10l6.5-6.5z"/></svg>
              <span class="select-menu-item-text css-truncate-target" title="v7.0.0a0">
                v7.0.0a0
              </span>
            </a>
            <a class="select-menu-item js-navigation-item js-navigation-open "
              href="/jupyter-widgets/ipywidgets/tree/v5.0.0/docs/source/examples/Widget%20Styling.ipynb"
              data-name="v5.0.0"
              data-skip-pjax="true"
              rel="nofollow">
              <svg aria-hidden="true" class="octicon octicon-check select-menu-item-icon" height="16" version="1.1" viewBox="0 0 12 16" width="12"><path fill-rule="evenodd" d="M12 5l-8 8-4-4 1.5-1.5L4 10l6.5-6.5z"/></svg>
              <span class="select-menu-item-text css-truncate-target" title="v5.0.0">
                v5.0.0
              </span>
            </a>
            <a class="select-menu-item js-navigation-item js-navigation-open "
              href="/jupyter-widgets/ipywidgets/tree/v5.0.0b4/docs/source/examples/Widget%20Styling.ipynb"
              data-name="v5.0.0b4"
              data-skip-pjax="true"
              rel="nofollow">
              <svg aria-hidden="true" class="octicon octicon-check select-menu-item-icon" height="16" version="1.1" viewBox="0 0 12 16" width="12"><path fill-rule="evenodd" d="M12 5l-8 8-4-4 1.5-1.5L4 10l6.5-6.5z"/></svg>
              <span class="select-menu-item-text css-truncate-target" title="v5.0.0b4">
                v5.0.0b4
              </span>
            </a>
            <a class="select-menu-item js-navigation-item js-navigation-open "
              href="/jupyter-widgets/ipywidgets/tree/v5.0.0b3/docs/source/examples/Widget%20Styling.ipynb"
              data-name="v5.0.0b3"
              data-skip-pjax="true"
              rel="nofollow">
              <svg aria-hidden="true" class="octicon octicon-check select-menu-item-icon" height="16" version="1.1" viewBox="0 0 12 16" width="12"><path fill-rule="evenodd" d="M12 5l-8 8-4-4 1.5-1.5L4 10l6.5-6.5z"/></svg>
              <span class="select-menu-item-text css-truncate-target" title="v5.0.0b3">
                v5.0.0b3
              </span>
            </a>
            <a class="select-menu-item js-navigation-item js-navigation-open "
              href="/jupyter-widgets/ipywidgets/tree/v5.0.0b2/docs/source/examples/Widget%20Styling.ipynb"
              data-name="v5.0.0b2"
              data-skip-pjax="true"
              rel="nofollow">
              <svg aria-hidden="true" class="octicon octicon-check select-menu-item-icon" height="16" version="1.1" viewBox="0 0 12 16" width="12"><path fill-rule="evenodd" d="M12 5l-8 8-4-4 1.5-1.5L4 10l6.5-6.5z"/></svg>
              <span class="select-menu-item-text css-truncate-target" title="v5.0.0b2">
                v5.0.0b2
              </span>
            </a>
            <a class="select-menu-item js-navigation-item js-navigation-open "
              href="/jupyter-widgets/ipywidgets/tree/%40jupyter-widgets/schema%400.3.0/docs/source/examples/Widget%20Styling.ipynb"
              data-name="@jupyter-widgets/schema@0.3.0"
              data-skip-pjax="true"
              rel="nofollow">
              <svg aria-hidden="true" class="octicon octicon-check select-menu-item-icon" height="16" version="1.1" viewBox="0 0 12 16" width="12"><path fill-rule="evenodd" d="M12 5l-8 8-4-4 1.5-1.5L4 10l6.5-6.5z"/></svg>
              <span class="select-menu-item-text css-truncate-target" title="@jupyter-widgets/schema@0.3.0">
                @jupyter-widgets/schema@0.3.0
              </span>
            </a>
            <a class="select-menu-item js-navigation-item js-navigation-open "
              href="/jupyter-widgets/ipywidgets/tree/%40jupyter-widgets/schema%400.3.0-beta.7/docs/source/examples/Widget%20Styling.ipynb"
              data-name="@jupyter-widgets/schema@0.3.0-beta.7"
              data-skip-pjax="true"
              rel="nofollow">
              <svg aria-hidden="true" class="octicon octicon-check select-menu-item-icon" height="16" version="1.1" viewBox="0 0 12 16" width="12"><path fill-rule="evenodd" d="M12 5l-8 8-4-4 1.5-1.5L4 10l6.5-6.5z"/></svg>
              <span class="select-menu-item-text css-truncate-target" title="@jupyter-widgets/schema@0.3.0-beta.7">
                @jupyter-widgets/schema@0.3.0-beta.7
              </span>
            </a>
            <a class="select-menu-item js-navigation-item js-navigation-open "
              href="/jupyter-widgets/ipywidgets/tree/%40jupyter-widgets/schema%400.3.0-beta.6/docs/source/examples/Widget%20Styling.ipynb"
              data-name="@jupyter-widgets/schema@0.3.0-beta.6"
              data-skip-pjax="true"
              rel="nofollow">
              <svg aria-hidden="true" class="octicon octicon-check select-menu-item-icon" height="16" version="1.1" viewBox="0 0 12 16" width="12"><path fill-rule="evenodd" d="M12 5l-8 8-4-4 1.5-1.5L4 10l6.5-6.5z"/></svg>
              <span class="select-menu-item-text css-truncate-target" title="@jupyter-widgets/schema@0.3.0-beta.6">
                @jupyter-widgets/schema@0.3.0-beta.6
              </span>
            </a>
            <a class="select-menu-item js-navigation-item js-navigation-open "
              href="/jupyter-widgets/ipywidgets/tree/%40jupyter-widgets/schema%400.3.0-beta.5/docs/source/examples/Widget%20Styling.ipynb"
              data-name="@jupyter-widgets/schema@0.3.0-beta.5"
              data-skip-pjax="true"
              rel="nofollow">
              <svg aria-hidden="true" class="octicon octicon-check select-menu-item-icon" height="16" version="1.1" viewBox="0 0 12 16" width="12"><path fill-rule="evenodd" d="M12 5l-8 8-4-4 1.5-1.5L4 10l6.5-6.5z"/></svg>
              <span class="select-menu-item-text css-truncate-target" title="@jupyter-widgets/schema@0.3.0-beta.5">
                @jupyter-widgets/schema@0.3.0-beta.5
              </span>
            </a>
            <a class="select-menu-item js-navigation-item js-navigation-open "
              href="/jupyter-widgets/ipywidgets/tree/%40jupyter-widgets/schema%400.3.0-beta.4/docs/source/examples/Widget%20Styling.ipynb"
              data-name="@jupyter-widgets/schema@0.3.0-beta.4"
              data-skip-pjax="true"
              rel="nofollow">
              <svg aria-hidden="true" class="octicon octicon-check select-menu-item-icon" height="16" version="1.1" viewBox="0 0 12 16" width="12"><path fill-rule="evenodd" d="M12 5l-8 8-4-4 1.5-1.5L4 10l6.5-6.5z"/></svg>
              <span class="select-menu-item-text css-truncate-target" title="@jupyter-widgets/schema@0.3.0-beta.4">
                @jupyter-widgets/schema@0.3.0-beta.4
              </span>
            </a>
            <a class="select-menu-item js-navigation-item js-navigation-open "
              href="/jupyter-widgets/ipywidgets/tree/%40jupyter-widgets/schema%400.3.0-beta.3/docs/source/examples/Widget%20Styling.ipynb"
              data-name="@jupyter-widgets/schema@0.3.0-beta.3"
              data-skip-pjax="true"
              rel="nofollow">
              <svg aria-hidden="true" class="octicon octicon-check select-menu-item-icon" height="16" version="1.1" viewBox="0 0 12 16" width="12"><path fill-rule="evenodd" d="M12 5l-8 8-4-4 1.5-1.5L4 10l6.5-6.5z"/></svg>
              <span class="select-menu-item-text css-truncate-target" title="@jupyter-widgets/schema@0.3.0-beta.3">
                @jupyter-widgets/schema@0.3.0-beta.3
              </span>
            </a>
            <a class="select-menu-item js-navigation-item js-navigation-open "
              href="/jupyter-widgets/ipywidgets/tree/%40jupyter-widgets/output%401.0.0/docs/source/examples/Widget%20Styling.ipynb"
              data-name="@jupyter-widgets/output@1.0.0"
              data-skip-pjax="true"
              rel="nofollow">
              <svg aria-hidden="true" class="octicon octicon-check select-menu-item-icon" height="16" version="1.1" viewBox="0 0 12 16" width="12"><path fill-rule="evenodd" d="M12 5l-8 8-4-4 1.5-1.5L4 10l6.5-6.5z"/></svg>
              <span class="select-menu-item-text css-truncate-target" title="@jupyter-widgets/output@1.0.0">
                @jupyter-widgets/output@1.0.0
              </span>
            </a>
            <a class="select-menu-item js-navigation-item js-navigation-open "
              href="/jupyter-widgets/ipywidgets/tree/%40jupyter-widgets/output%400.3.12/docs/source/examples/Widget%20Styling.ipynb"
              data-name="@jupyter-widgets/output@0.3.12"
              data-skip-pjax="true"
              rel="nofollow">
              <svg aria-hidden="true" class="octicon octicon-check select-menu-item-icon" height="16" version="1.1" viewBox="0 0 12 16" width="12"><path fill-rule="evenodd" d="M12 5l-8 8-4-4 1.5-1.5L4 10l6.5-6.5z"/></svg>
              <span class="select-menu-item-text css-truncate-target" title="@jupyter-widgets/output@0.3.12">
                @jupyter-widgets/output@0.3.12
              </span>
            </a>
            <a class="select-menu-item js-navigation-item js-navigation-open "
              href="/jupyter-widgets/ipywidgets/tree/%40jupyter-widgets/output%400.3.11/docs/source/examples/Widget%20Styling.ipynb"
              data-name="@jupyter-widgets/output@0.3.11"
              data-skip-pjax="true"
              rel="nofollow">
              <svg aria-hidden="true" class="octicon octicon-check select-menu-item-icon" height="16" version="1.1" viewBox="0 0 12 16" width="12"><path fill-rule="evenodd" d="M12 5l-8 8-4-4 1.5-1.5L4 10l6.5-6.5z"/></svg>
              <span class="select-menu-item-text css-truncate-target" title="@jupyter-widgets/output@0.3.11">
                @jupyter-widgets/output@0.3.11
              </span>
            </a>
            <a class="select-menu-item js-navigation-item js-navigation-open "
              href="/jupyter-widgets/ipywidgets/tree/%40jupyter-widgets/output%400.3.10/docs/source/examples/Widget%20Styling.ipynb"
              data-name="@jupyter-widgets/output@0.3.10"
              data-skip-pjax="true"
              rel="nofollow">
              <svg aria-hidden="true" class="octicon octicon-check select-menu-item-icon" height="16" version="1.1" viewBox="0 0 12 16" width="12"><path fill-rule="evenodd" d="M12 5l-8 8-4-4 1.5-1.5L4 10l6.5-6.5z"/></svg>
              <span class="select-menu-item-text css-truncate-target" title="@jupyter-widgets/output@0.3.10">
                @jupyter-widgets/output@0.3.10
              </span>
            </a>
            <a class="select-menu-item js-navigation-item js-navigation-open "
              href="/jupyter-widgets/ipywidgets/tree/%40jupyter-widgets/output%400.3.9/docs/source/examples/Widget%20Styling.ipynb"
              data-name="@jupyter-widgets/output@0.3.9"
              data-skip-pjax="true"
              rel="nofollow">
              <svg aria-hidden="true" class="octicon octicon-check select-menu-item-icon" height="16" version="1.1" viewBox="0 0 12 16" width="12"><path fill-rule="evenodd" d="M12 5l-8 8-4-4 1.5-1.5L4 10l6.5-6.5z"/></svg>
              <span class="select-menu-item-text css-truncate-target" title="@jupyter-widgets/output@0.3.9">
                @jupyter-widgets/output@0.3.9
              </span>
            </a>
            <a class="select-menu-item js-navigation-item js-navigation-open "
              href="/jupyter-widgets/ipywidgets/tree/%40jupyter-widgets/output%400.3.8/docs/source/examples/Widget%20Styling.ipynb"
              data-name="@jupyter-widgets/output@0.3.8"
              data-skip-pjax="true"
              rel="nofollow">
              <svg aria-hidden="true" class="octicon octicon-check select-menu-item-icon" height="16" version="1.1" viewBox="0 0 12 16" width="12"><path fill-rule="evenodd" d="M12 5l-8 8-4-4 1.5-1.5L4 10l6.5-6.5z"/></svg>
              <span class="select-menu-item-text css-truncate-target" title="@jupyter-widgets/output@0.3.8">
                @jupyter-widgets/output@0.3.8
              </span>
            </a>
            <a class="select-menu-item js-navigation-item js-navigation-open "
              href="/jupyter-widgets/ipywidgets/tree/%40jupyter-widgets/output%400.3.7/docs/source/examples/Widget%20Styling.ipynb"
              data-name="@jupyter-widgets/output@0.3.7"
              data-skip-pjax="true"
              rel="nofollow">
              <svg aria-hidden="true" class="octicon octicon-check select-menu-item-icon" height="16" version="1.1" viewBox="0 0 12 16" width="12"><path fill-rule="evenodd" d="M12 5l-8 8-4-4 1.5-1.5L4 10l6.5-6.5z"/></svg>
              <span class="select-menu-item-text css-truncate-target" title="@jupyter-widgets/output@0.3.7">
                @jupyter-widgets/output@0.3.7
              </span>
            </a>
            <a class="select-menu-item js-navigation-item js-navigation-open "
              href="/jupyter-widgets/ipywidgets/tree/%40jupyter-widgets/output%400.3.6/docs/source/examples/Widget%20Styling.ipynb"
              data-name="@jupyter-widgets/output@0.3.6"
              data-skip-pjax="true"
              rel="nofollow">
              <svg aria-hidden="true" class="octicon octicon-check select-menu-item-icon" height="16" version="1.1" viewBox="0 0 12 16" width="12"><path fill-rule="evenodd" d="M12 5l-8 8-4-4 1.5-1.5L4 10l6.5-6.5z"/></svg>
              <span class="select-menu-item-text css-truncate-target" title="@jupyter-widgets/output@0.3.6">
                @jupyter-widgets/output@0.3.6
              </span>
            </a>
            <a class="select-menu-item js-navigation-item js-navigation-open "
              href="/jupyter-widgets/ipywidgets/tree/%40jupyter-widgets/output%400.3.5/docs/source/examples/Widget%20Styling.ipynb"
              data-name="@jupyter-widgets/output@0.3.5"
              data-skip-pjax="true"
              rel="nofollow">
              <svg aria-hidden="true" class="octicon octicon-check select-menu-item-icon" height="16" version="1.1" viewBox="0 0 12 16" width="12"><path fill-rule="evenodd" d="M12 5l-8 8-4-4 1.5-1.5L4 10l6.5-6.5z"/></svg>
              <span class="select-menu-item-text css-truncate-target" title="@jupyter-widgets/output@0.3.5">
                @jupyter-widgets/output@0.3.5
              </span>
            </a>
            <a class="select-menu-item js-navigation-item js-navigation-open "
              href="/jupyter-widgets/ipywidgets/tree/%40jupyter-widgets/output%400.3.4/docs/source/examples/Widget%20Styling.ipynb"
              data-name="@jupyter-widgets/output@0.3.4"
              data-skip-pjax="true"
              rel="nofollow">
              <svg aria-hidden="true" class="octicon octicon-check select-menu-item-icon" height="16" version="1.1" viewBox="0 0 12 16" width="12"><path fill-rule="evenodd" d="M12 5l-8 8-4-4 1.5-1.5L4 10l6.5-6.5z"/></svg>
              <span class="select-menu-item-text css-truncate-target" title="@jupyter-widgets/output@0.3.4">
                @jupyter-widgets/output@0.3.4
              </span>
            </a>
            <a class="select-menu-item js-navigation-item js-navigation-open "
              href="/jupyter-widgets/ipywidgets/tree/%40jupyter-widgets/output%400.3.3/docs/source/examples/Widget%20Styling.ipynb"
              data-name="@jupyter-widgets/output@0.3.3"
              data-skip-pjax="true"
              rel="nofollow">
              <svg aria-hidden="true" class="octicon octicon-check select-menu-item-icon" height="16" version="1.1" viewBox="0 0 12 16" width="12"><path fill-rule="evenodd" d="M12 5l-8 8-4-4 1.5-1.5L4 10l6.5-6.5z"/></svg>
              <span class="select-menu-item-text css-truncate-target" title="@jupyter-widgets/output@0.3.3">
                @jupyter-widgets/output@0.3.3
              </span>
            </a>
            <a class="select-menu-item js-navigation-item js-navigation-open "
              href="/jupyter-widgets/ipywidgets/tree/%40jupyter-widgets/output%400.3.2/docs/source/examples/Widget%20Styling.ipynb"
              data-name="@jupyter-widgets/output@0.3.2"
              data-skip-pjax="true"
              rel="nofollow">
              <svg aria-hidden="true" class="octicon octicon-check select-menu-item-icon" height="16" version="1.1" viewBox="0 0 12 16" width="12"><path fill-rule="evenodd" d="M12 5l-8 8-4-4 1.5-1.5L4 10l6.5-6.5z"/></svg>
              <span class="select-menu-item-text css-truncate-target" title="@jupyter-widgets/output@0.3.2">
                @jupyter-widgets/output@0.3.2
              </span>
            </a>
            <a class="select-menu-item js-navigation-item js-navigation-open "
              href="/jupyter-widgets/ipywidgets/tree/%40jupyter-widgets/output%400.3.1/docs/source/examples/Widget%20Styling.ipynb"
              data-name="@jupyter-widgets/output@0.3.1"
              data-skip-pjax="true"
              rel="nofollow">
              <svg aria-hidden="true" class="octicon octicon-check select-menu-item-icon" height="16" version="1.1" viewBox="0 0 12 16" width="12"><path fill-rule="evenodd" d="M12 5l-8 8-4-4 1.5-1.5L4 10l6.5-6.5z"/></svg>
              <span class="select-menu-item-text css-truncate-target" title="@jupyter-widgets/output@0.3.1">
                @jupyter-widgets/output@0.3.1
              </span>
            </a>
            <a class="select-menu-item js-navigation-item js-navigation-open "
              href="/jupyter-widgets/ipywidgets/tree/%40jupyter-widgets/output%400.3.0/docs/source/examples/Widget%20Styling.ipynb"
              data-name="@jupyter-widgets/output@0.3.0"
              data-skip-pjax="true"
              rel="nofollow">
              <svg aria-hidden="true" class="octicon octicon-check select-menu-item-icon" height="16" version="1.1" viewBox="0 0 12 16" width="12"><path fill-rule="evenodd" d="M12 5l-8 8-4-4 1.5-1.5L4 10l6.5-6.5z"/></svg>
              <span class="select-menu-item-text css-truncate-target" title="@jupyter-widgets/output@0.3.0">
                @jupyter-widgets/output@0.3.0
              </span>
            </a>
            <a class="select-menu-item js-navigation-item js-navigation-open "
              href="/jupyter-widgets/ipywidgets/tree/%40jupyter-widgets/output%400.2.2/docs/source/examples/Widget%20Styling.ipynb"
              data-name="@jupyter-widgets/output@0.2.2"
              data-skip-pjax="true"
              rel="nofollow">
              <svg aria-hidden="true" class="octicon octicon-check select-menu-item-icon" height="16" version="1.1" viewBox="0 0 12 16" width="12"><path fill-rule="evenodd" d="M12 5l-8 8-4-4 1.5-1.5L4 10l6.5-6.5z"/></svg>
              <span class="select-menu-item-text css-truncate-target" title="@jupyter-widgets/output@0.2.2">
                @jupyter-widgets/output@0.2.2
              </span>
            </a>
            <a class="select-menu-item js-navigation-item js-navigation-open "
              href="/jupyter-widgets/ipywidgets/tree/%40jupyter-widgets/output%400.2.1/docs/source/examples/Widget%20Styling.ipynb"
              data-name="@jupyter-widgets/output@0.2.1"
              data-skip-pjax="true"
              rel="nofollow">
              <svg aria-hidden="true" class="octicon octicon-check select-menu-item-icon" height="16" version="1.1" viewBox="0 0 12 16" width="12"><path fill-rule="evenodd" d="M12 5l-8 8-4-4 1.5-1.5L4 10l6.5-6.5z"/></svg>
              <span class="select-menu-item-text css-truncate-target" title="@jupyter-widgets/output@0.2.1">
                @jupyter-widgets/output@0.2.1
              </span>
            </a>
            <a class="select-menu-item js-navigation-item js-navigation-open "
              href="/jupyter-widgets/ipywidgets/tree/%40jupyter-widgets/output%400.2.0/docs/source/examples/Widget%20Styling.ipynb"
              data-name="@jupyter-widgets/output@0.2.0"
              data-skip-pjax="true"
              rel="nofollow">
              <svg aria-hidden="true" class="octicon octicon-check select-menu-item-icon" height="16" version="1.1" viewBox="0 0 12 16" width="12"><path fill-rule="evenodd" d="M12 5l-8 8-4-4 1.5-1.5L4 10l6.5-6.5z"/></svg>
              <span class="select-menu-item-text css-truncate-target" title="@jupyter-widgets/output@0.2.0">
                @jupyter-widgets/output@0.2.0
              </span>
            </a>
            <a class="select-menu-item js-navigation-item js-navigation-open "
              href="/jupyter-widgets/ipywidgets/tree/%40jupyter-widgets/output%400.1.1/docs/source/examples/Widget%20Styling.ipynb"
              data-name="@jupyter-widgets/output@0.1.1"
              data-skip-pjax="true"
              rel="nofollow">
              <svg aria-hidden="true" class="octicon octicon-check select-menu-item-icon" height="16" version="1.1" viewBox="0 0 12 16" width="12"><path fill-rule="evenodd" d="M12 5l-8 8-4-4 1.5-1.5L4 10l6.5-6.5z"/></svg>
              <span class="select-menu-item-text css-truncate-target" title="@jupyter-widgets/output@0.1.1">
                @jupyter-widgets/output@0.1.1
              </span>
            </a>
            <a class="select-menu-item js-navigation-item js-navigation-open "
              href="/jupyter-widgets/ipywidgets/tree/%40jupyter-widgets/output%400.1.0/docs/source/examples/Widget%20Styling.ipynb"
              data-name="@jupyter-widgets/output@0.1.0"
              data-skip-pjax="true"
              rel="nofollow">
              <svg aria-hidden="true" class="octicon octicon-check select-menu-item-icon" height="16" version="1.1" viewBox="0 0 12 16" width="12"><path fill-rule="evenodd" d="M12 5l-8 8-4-4 1.5-1.5L4 10l6.5-6.5z"/></svg>
              <span class="select-menu-item-text css-truncate-target" title="@jupyter-widgets/output@0.1.0">
                @jupyter-widgets/output@0.1.0
              </span>
            </a>
            <a class="select-menu-item js-navigation-item js-navigation-open "
              href="/jupyter-widgets/ipywidgets/tree/%40jupyter-widgets/notebook-manager%403.0.0/docs/source/examples/Widget%20Styling.ipynb"
              data-name="@jupyter-widgets/notebook-manager@3.0.0"
              data-skip-pjax="true"
              rel="nofollow">
              <svg aria-hidden="true" class="octicon octicon-check select-menu-item-icon" height="16" version="1.1" viewBox="0 0 12 16" width="12"><path fill-rule="evenodd" d="M12 5l-8 8-4-4 1.5-1.5L4 10l6.5-6.5z"/></svg>
              <span class="select-menu-item-text css-truncate-target" title="@jupyter-widgets/notebook-manager@3.0.0">
                @jupyter-widgets/notebook-manager@3.0.0
              </span>
            </a>
            <a class="select-menu-item js-navigation-item js-navigation-open "
              href="/jupyter-widgets/ipywidgets/tree/%40jupyter-widgets/notebook-manager%403.0.0-rc.1/docs/source/examples/Widget%20Styling.ipynb"
              data-name="@jupyter-widgets/notebook-manager@3.0.0-rc.1"
              data-skip-pjax="true"
              rel="nofollow">
              <svg aria-hidden="true" class="octicon octicon-check select-menu-item-icon" height="16" version="1.1" viewBox="0 0 12 16" width="12"><path fill-rule="evenodd" d="M12 5l-8 8-4-4 1.5-1.5L4 10l6.5-6.5z"/></svg>
              <span class="select-menu-item-text css-truncate-target" title="@jupyter-widgets/notebook-manager@3.0.0-rc.1">
                @jupyter-widgets/notebook-manager@3.0.0-rc.1
              </span>
            </a>
            <a class="select-menu-item js-navigation-item js-navigation-open "
              href="/jupyter-widgets/ipywidgets/tree/%40jupyter-widgets/notebook-manager%403.0.0-rc.0/docs/source/examples/Widget%20Styling.ipynb"
              data-name="@jupyter-widgets/notebook-manager@3.0.0-rc.0"
              data-skip-pjax="true"
              rel="nofollow">
              <svg aria-hidden="true" class="octicon octicon-check select-menu-item-icon" height="16" version="1.1" viewBox="0 0 12 16" width="12"><path fill-rule="evenodd" d="M12 5l-8 8-4-4 1.5-1.5L4 10l6.5-6.5z"/></svg>
              <span class="select-menu-item-text css-truncate-target" title="@jupyter-widgets/notebook-manager@3.0.0-rc.0">
                @jupyter-widgets/notebook-manager@3.0.0-rc.0
              </span>
            </a>
            <a class="select-menu-item js-navigation-item js-navigation-open "
              href="/jupyter-widgets/ipywidgets/tree/%40jupyter-widgets/notebook-manager%403.0.0-beta.18/docs/source/examples/Widget%20Styling.ipynb"
              data-name="@jupyter-widgets/notebook-manager@3.0.0-beta.18"
              data-skip-pjax="true"
              rel="nofollow">
              <svg aria-hidden="true" class="octicon octicon-check select-menu-item-icon" height="16" version="1.1" viewBox="0 0 12 16" width="12"><path fill-rule="evenodd" d="M12 5l-8 8-4-4 1.5-1.5L4 10l6.5-6.5z"/></svg>
              <span class="select-menu-item-text css-truncate-target" title="@jupyter-widgets/notebook-manager@3.0.0-beta.18">
                @jupyter-widgets/notebook-manager@3.0.0-beta.18
              </span>
            </a>
            <a class="select-menu-item js-navigation-item js-navigation-open "
              href="/jupyter-widgets/ipywidgets/tree/%40jupyter-widgets/notebook-manager%403.0.0-beta.17/docs/source/examples/Widget%20Styling.ipynb"
              data-name="@jupyter-widgets/notebook-manager@3.0.0-beta.17"
              data-skip-pjax="true"
              rel="nofollow">
              <svg aria-hidden="true" class="octicon octicon-check select-menu-item-icon" height="16" version="1.1" viewBox="0 0 12 16" width="12"><path fill-rule="evenodd" d="M12 5l-8 8-4-4 1.5-1.5L4 10l6.5-6.5z"/></svg>
              <span class="select-menu-item-text css-truncate-target" title="@jupyter-widgets/notebook-manager@3.0.0-beta.17">
                @jupyter-widgets/notebook-manager@3.0.0-beta.17
              </span>
            </a>
            <a class="select-menu-item js-navigation-item js-navigation-open "
              href="/jupyter-widgets/ipywidgets/tree/%40jupyter-widgets/notebook-manager%403.0.0-beta.16/docs/source/examples/Widget%20Styling.ipynb"
              data-name="@jupyter-widgets/notebook-manager@3.0.0-beta.16"
              data-skip-pjax="true"
              rel="nofollow">
              <svg aria-hidden="true" class="octicon octicon-check select-menu-item-icon" height="16" version="1.1" viewBox="0 0 12 16" width="12"><path fill-rule="evenodd" d="M12 5l-8 8-4-4 1.5-1.5L4 10l6.5-6.5z"/></svg>
              <span class="select-menu-item-text css-truncate-target" title="@jupyter-widgets/notebook-manager@3.0.0-beta.16">
                @jupyter-widgets/notebook-manager@3.0.0-beta.16
              </span>
            </a>
            <a class="select-menu-item js-navigation-item js-navigation-open "
              href="/jupyter-widgets/ipywidgets/tree/%40jupyter-widgets/notebook-manager%403.0.0-beta.15/docs/source/examples/Widget%20Styling.ipynb"
              data-name="@jupyter-widgets/notebook-manager@3.0.0-beta.15"
              data-skip-pjax="true"
              rel="nofollow">
              <svg aria-hidden="true" class="octicon octicon-check select-menu-item-icon" height="16" version="1.1" viewBox="0 0 12 16" width="12"><path fill-rule="evenodd" d="M12 5l-8 8-4-4 1.5-1.5L4 10l6.5-6.5z"/></svg>
              <span class="select-menu-item-text css-truncate-target" title="@jupyter-widgets/notebook-manager@3.0.0-beta.15">
                @jupyter-widgets/notebook-manager@3.0.0-beta.15
              </span>
            </a>
            <a class="select-menu-item js-navigation-item js-navigation-open "
              href="/jupyter-widgets/ipywidgets/tree/%40jupyter-widgets/notebook-manager%403.0.0-beta.14/docs/source/examples/Widget%20Styling.ipynb"
              data-name="@jupyter-widgets/notebook-manager@3.0.0-beta.14"
              data-skip-pjax="true"
              rel="nofollow">
              <svg aria-hidden="true" class="octicon octicon-check select-menu-item-icon" height="16" version="1.1" viewBox="0 0 12 16" width="12"><path fill-rule="evenodd" d="M12 5l-8 8-4-4 1.5-1.5L4 10l6.5-6.5z"/></svg>
              <span class="select-menu-item-text css-truncate-target" title="@jupyter-widgets/notebook-manager@3.0.0-beta.14">
                @jupyter-widgets/notebook-manager@3.0.0-beta.14
              </span>
            </a>
            <a class="select-menu-item js-navigation-item js-navigation-open "
              href="/jupyter-widgets/ipywidgets/tree/%40jupyter-widgets/notebook-manager%403.0.0-beta.13/docs/source/examples/Widget%20Styling.ipynb"
              data-name="@jupyter-widgets/notebook-manager@3.0.0-beta.13"
              data-skip-pjax="true"
              rel="nofollow">
              <svg aria-hidden="true" class="octicon octicon-check select-menu-item-icon" height="16" version="1.1" viewBox="0 0 12 16" width="12"><path fill-rule="evenodd" d="M12 5l-8 8-4-4 1.5-1.5L4 10l6.5-6.5z"/></svg>
              <span class="select-menu-item-text css-truncate-target" title="@jupyter-widgets/notebook-manager@3.0.0-beta.13">
                @jupyter-widgets/notebook-manager@3.0.0-beta.13
              </span>
            </a>
            <a class="select-menu-item js-navigation-item js-navigation-open "
              href="/jupyter-widgets/ipywidgets/tree/%40jupyter-widgets/notebook-manager%403.0.0-beta.12/docs/source/examples/Widget%20Styling.ipynb"
              data-name="@jupyter-widgets/notebook-manager@3.0.0-beta.12"
              data-skip-pjax="true"
              rel="nofollow">
              <svg aria-hidden="true" class="octicon octicon-check select-menu-item-icon" height="16" version="1.1" viewBox="0 0 12 16" width="12"><path fill-rule="evenodd" d="M12 5l-8 8-4-4 1.5-1.5L4 10l6.5-6.5z"/></svg>
              <span class="select-menu-item-text css-truncate-target" title="@jupyter-widgets/notebook-manager@3.0.0-beta.12">
                @jupyter-widgets/notebook-manager@3.0.0-beta.12
              </span>
            </a>
            <a class="select-menu-item js-navigation-item js-navigation-open "
              href="/jupyter-widgets/ipywidgets/tree/%40jupyter-widgets/notebook-manager%403.0.0-beta.11/docs/source/examples/Widget%20Styling.ipynb"
              data-name="@jupyter-widgets/notebook-manager@3.0.0-beta.11"
              data-skip-pjax="true"
              rel="nofollow">
              <svg aria-hidden="true" class="octicon octicon-check select-menu-item-icon" height="16" version="1.1" viewBox="0 0 12 16" width="12"><path fill-rule="evenodd" d="M12 5l-8 8-4-4 1.5-1.5L4 10l6.5-6.5z"/></svg>
              <span class="select-menu-item-text css-truncate-target" title="@jupyter-widgets/notebook-manager@3.0.0-beta.11">
                @jupyter-widgets/notebook-manager@3.0.0-beta.11
              </span>
            </a>
            <a class="select-menu-item js-navigation-item js-navigation-open "
              href="/jupyter-widgets/ipywidgets/tree/%40jupyter-widgets/notebook-manager%403.0.0-beta.10/docs/source/examples/Widget%20Styling.ipynb"
              data-name="@jupyter-widgets/notebook-manager@3.0.0-beta.10"
              data-skip-pjax="true"
              rel="nofollow">
              <svg aria-hidden="true" class="octicon octicon-check select-menu-item-icon" height="16" version="1.1" viewBox="0 0 12 16" width="12"><path fill-rule="evenodd" d="M12 5l-8 8-4-4 1.5-1.5L4 10l6.5-6.5z"/></svg>
              <span class="select-menu-item-text css-truncate-target" title="@jupyter-widgets/notebook-manager@3.0.0-beta.10">
                @jupyter-widgets/notebook-manager@3.0.0-beta.10
              </span>
            </a>
            <a class="select-menu-item js-navigation-item js-navigation-open "
              href="/jupyter-widgets/ipywidgets/tree/%40jupyter-widgets/notebook-manager%403.0.0-beta.9/docs/source/examples/Widget%20Styling.ipynb"
              data-name="@jupyter-widgets/notebook-manager@3.0.0-beta.9"
              data-skip-pjax="true"
              rel="nofollow">
              <svg aria-hidden="true" class="octicon octicon-check select-menu-item-icon" height="16" version="1.1" viewBox="0 0 12 16" width="12"><path fill-rule="evenodd" d="M12 5l-8 8-4-4 1.5-1.5L4 10l6.5-6.5z"/></svg>
              <span class="select-menu-item-text css-truncate-target" title="@jupyter-widgets/notebook-manager@3.0.0-beta.9">
                @jupyter-widgets/notebook-manager@3.0.0-beta.9
              </span>
            </a>
            <a class="select-menu-item js-navigation-item js-navigation-open "
              href="/jupyter-widgets/ipywidgets/tree/%40jupyter-widgets/notebook-manager%403.0.0-beta.8/docs/source/examples/Widget%20Styling.ipynb"
              data-name="@jupyter-widgets/notebook-manager@3.0.0-beta.8"
              data-skip-pjax="true"
              rel="nofollow">
              <svg aria-hidden="true" class="octicon octicon-check select-menu-item-icon" height="16" version="1.1" viewBox="0 0 12 16" width="12"><path fill-rule="evenodd" d="M12 5l-8 8-4-4 1.5-1.5L4 10l6.5-6.5z"/></svg>
              <span class="select-menu-item-text css-truncate-target" title="@jupyter-widgets/notebook-manager@3.0.0-beta.8">
                @jupyter-widgets/notebook-manager@3.0.0-beta.8
              </span>
            </a>
            <a class="select-menu-item js-navigation-item js-navigation-open "
              href="/jupyter-widgets/ipywidgets/tree/%40jupyter-widgets/notebook-manager%403.0.0-beta.7/docs/source/examples/Widget%20Styling.ipynb"
              data-name="@jupyter-widgets/notebook-manager@3.0.0-beta.7"
              data-skip-pjax="true"
              rel="nofollow">
              <svg aria-hidden="true" class="octicon octicon-check select-menu-item-icon" height="16" version="1.1" viewBox="0 0 12 16" width="12"><path fill-rule="evenodd" d="M12 5l-8 8-4-4 1.5-1.5L4 10l6.5-6.5z"/></svg>
              <span class="select-menu-item-text css-truncate-target" title="@jupyter-widgets/notebook-manager@3.0.0-beta.7">
                @jupyter-widgets/notebook-manager@3.0.0-beta.7
              </span>
            </a>
            <a class="select-menu-item js-navigation-item js-navigation-open "
              href="/jupyter-widgets/ipywidgets/tree/%40jupyter-widgets/notebook-manager%403.0.0-beta.6/docs/source/examples/Widget%20Styling.ipynb"
              data-name="@jupyter-widgets/notebook-manager@3.0.0-beta.6"
              data-skip-pjax="true"
              rel="nofollow">
              <svg aria-hidden="true" class="octicon octicon-check select-menu-item-icon" height="16" version="1.1" viewBox="0 0 12 16" width="12"><path fill-rule="evenodd" d="M12 5l-8 8-4-4 1.5-1.5L4 10l6.5-6.5z"/></svg>
              <span class="select-menu-item-text css-truncate-target" title="@jupyter-widgets/notebook-manager@3.0.0-beta.6">
                @jupyter-widgets/notebook-manager@3.0.0-beta.6
              </span>
            </a>
            <a class="select-menu-item js-navigation-item js-navigation-open "
              href="/jupyter-widgets/ipywidgets/tree/%40jupyter-widgets/notebook-manager%403.0.0-beta.5/docs/source/examples/Widget%20Styling.ipynb"
              data-name="@jupyter-widgets/notebook-manager@3.0.0-beta.5"
              data-skip-pjax="true"
              rel="nofollow">
              <svg aria-hidden="true" class="octicon octicon-check select-menu-item-icon" height="16" version="1.1" viewBox="0 0 12 16" width="12"><path fill-rule="evenodd" d="M12 5l-8 8-4-4 1.5-1.5L4 10l6.5-6.5z"/></svg>
              <span class="select-menu-item-text css-truncate-target" title="@jupyter-widgets/notebook-manager@3.0.0-beta.5">
                @jupyter-widgets/notebook-manager@3.0.0-beta.5
              </span>
            </a>
            <a class="select-menu-item js-navigation-item js-navigation-open "
              href="/jupyter-widgets/ipywidgets/tree/%40jupyter-widgets/notebook-manager%403.0.0-beta.4/docs/source/examples/Widget%20Styling.ipynb"
              data-name="@jupyter-widgets/notebook-manager@3.0.0-beta.4"
              data-skip-pjax="true"
              rel="nofollow">
              <svg aria-hidden="true" class="octicon octicon-check select-menu-item-icon" height="16" version="1.1" viewBox="0 0 12 16" width="12"><path fill-rule="evenodd" d="M12 5l-8 8-4-4 1.5-1.5L4 10l6.5-6.5z"/></svg>
              <span class="select-menu-item-text css-truncate-target" title="@jupyter-widgets/notebook-manager@3.0.0-beta.4">
                @jupyter-widgets/notebook-manager@3.0.0-beta.4
              </span>
            </a>
            <a class="select-menu-item js-navigation-item js-navigation-open "
              href="/jupyter-widgets/ipywidgets/tree/%40jupyter-widgets/notebook-manager%403.0.0-beta.3/docs/source/examples/Widget%20Styling.ipynb"
              data-name="@jupyter-widgets/notebook-manager@3.0.0-beta.3"
              data-skip-pjax="true"
              rel="nofollow">
              <svg aria-hidden="true" class="octicon octicon-check select-menu-item-icon" height="16" version="1.1" viewBox="0 0 12 16" width="12"><path fill-rule="evenodd" d="M12 5l-8 8-4-4 1.5-1.5L4 10l6.5-6.5z"/></svg>
              <span class="select-menu-item-text css-truncate-target" title="@jupyter-widgets/notebook-manager@3.0.0-beta.3">
                @jupyter-widgets/notebook-manager@3.0.0-beta.3
              </span>
            </a>
            <a class="select-menu-item js-navigation-item js-navigation-open "
              href="/jupyter-widgets/ipywidgets/tree/%40jupyter-widgets/notebook-manager%403.0.0-beta.2/docs/source/examples/Widget%20Styling.ipynb"
              data-name="@jupyter-widgets/notebook-manager@3.0.0-beta.2"
              data-skip-pjax="true"
              rel="nofollow">
              <svg aria-hidden="true" class="octicon octicon-check select-menu-item-icon" height="16" version="1.1" viewBox="0 0 12 16" width="12"><path fill-rule="evenodd" d="M12 5l-8 8-4-4 1.5-1.5L4 10l6.5-6.5z"/></svg>
              <span class="select-menu-item-text css-truncate-target" title="@jupyter-widgets/notebook-manager@3.0.0-beta.2">
                @jupyter-widgets/notebook-manager@3.0.0-beta.2
              </span>
            </a>
            <a class="select-menu-item js-navigation-item js-navigation-open "
              href="/jupyter-widgets/ipywidgets/tree/%40jupyter-widgets/notebook-manager%403.0.0-beta.1/docs/source/examples/Widget%20Styling.ipynb"
              data-name="@jupyter-widgets/notebook-manager@3.0.0-beta.1"
              data-skip-pjax="true"
              rel="nofollow">
              <svg aria-hidden="true" class="octicon octicon-check select-menu-item-icon" height="16" version="1.1" viewBox="0 0 12 16" width="12"><path fill-rule="evenodd" d="M12 5l-8 8-4-4 1.5-1.5L4 10l6.5-6.5z"/></svg>
              <span class="select-menu-item-text css-truncate-target" title="@jupyter-widgets/notebook-manager@3.0.0-beta.1">
                @jupyter-widgets/notebook-manager@3.0.0-beta.1
              </span>
            </a>
            <a class="select-menu-item js-navigation-item js-navigation-open "
              href="/jupyter-widgets/ipywidgets/tree/%40jupyter-widgets/notebook-manager%403.0.0-alpha.13/docs/source/examples/Widget%20Styling.ipynb"
              data-name="@jupyter-widgets/notebook-manager@3.0.0-alpha.13"
              data-skip-pjax="true"
              rel="nofollow">
              <svg aria-hidden="true" class="octicon octicon-check select-menu-item-icon" height="16" version="1.1" viewBox="0 0 12 16" width="12"><path fill-rule="evenodd" d="M12 5l-8 8-4-4 1.5-1.5L4 10l6.5-6.5z"/></svg>
              <span class="select-menu-item-text css-truncate-target" title="@jupyter-widgets/notebook-manager@3.0.0-alpha.13">
                @jupyter-widgets/notebook-manager@3.0.0-alpha.13
              </span>
            </a>
            <a class="select-menu-item js-navigation-item js-navigation-open "
              href="/jupyter-widgets/ipywidgets/tree/%40jupyter-widgets/notebook-manager%403.0.0-alpha.12/docs/source/examples/Widget%20Styling.ipynb"
              data-name="@jupyter-widgets/notebook-manager@3.0.0-alpha.12"
              data-skip-pjax="true"
              rel="nofollow">
              <svg aria-hidden="true" class="octicon octicon-check select-menu-item-icon" height="16" version="1.1" viewBox="0 0 12 16" width="12"><path fill-rule="evenodd" d="M12 5l-8 8-4-4 1.5-1.5L4 10l6.5-6.5z"/></svg>
              <span class="select-menu-item-text css-truncate-target" title="@jupyter-widgets/notebook-manager@3.0.0-alpha.12">
                @jupyter-widgets/notebook-manager@3.0.0-alpha.12
              </span>
            </a>
            <a class="select-menu-item js-navigation-item js-navigation-open "
              href="/jupyter-widgets/ipywidgets/tree/%40jupyter-widgets/notebook-manager%403.0.0-alpha.11/docs/source/examples/Widget%20Styling.ipynb"
              data-name="@jupyter-widgets/notebook-manager@3.0.0-alpha.11"
              data-skip-pjax="true"
              rel="nofollow">
              <svg aria-hidden="true" class="octicon octicon-check select-menu-item-icon" height="16" version="1.1" viewBox="0 0 12 16" width="12"><path fill-rule="evenodd" d="M12 5l-8 8-4-4 1.5-1.5L4 10l6.5-6.5z"/></svg>
              <span class="select-menu-item-text css-truncate-target" title="@jupyter-widgets/notebook-manager@3.0.0-alpha.11">
                @jupyter-widgets/notebook-manager@3.0.0-alpha.11
              </span>
            </a>
            <a class="select-menu-item js-navigation-item js-navigation-open "
              href="/jupyter-widgets/ipywidgets/tree/%40jupyter-widgets/notebook-manager%403.0.0-alpha.10/docs/source/examples/Widget%20Styling.ipynb"
              data-name="@jupyter-widgets/notebook-manager@3.0.0-alpha.10"
              data-skip-pjax="true"
              rel="nofollow">
              <svg aria-hidden="true" class="octicon octicon-check select-menu-item-icon" height="16" version="1.1" viewBox="0 0 12 16" width="12"><path fill-rule="evenodd" d="M12 5l-8 8-4-4 1.5-1.5L4 10l6.5-6.5z"/></svg>
              <span class="select-menu-item-text css-truncate-target" title="@jupyter-widgets/notebook-manager@3.0.0-alpha.10">
                @jupyter-widgets/notebook-manager@3.0.0-alpha.10
              </span>
            </a>
            <a class="select-menu-item js-navigation-item js-navigation-open "
              href="/jupyter-widgets/ipywidgets/tree/%40jupyter-widgets/notebook-manager%403.0.0-alpha.9/docs/source/examples/Widget%20Styling.ipynb"
              data-name="@jupyter-widgets/notebook-manager@3.0.0-alpha.9"
              data-skip-pjax="true"
              rel="nofollow">
              <svg aria-hidden="true" class="octicon octicon-check select-menu-item-icon" height="16" version="1.1" viewBox="0 0 12 16" width="12"><path fill-rule="evenodd" d="M12 5l-8 8-4-4 1.5-1.5L4 10l6.5-6.5z"/></svg>
              <span class="select-menu-item-text css-truncate-target" title="@jupyter-widgets/notebook-manager@3.0.0-alpha.9">
                @jupyter-widgets/notebook-manager@3.0.0-alpha.9
              </span>
            </a>
            <a class="select-menu-item js-navigation-item js-navigation-open "
              href="/jupyter-widgets/ipywidgets/tree/%40jupyter-widgets/notebook-manager%403.0.0-alpha.8/docs/source/examples/Widget%20Styling.ipynb"
              data-name="@jupyter-widgets/notebook-manager@3.0.0-alpha.8"
              data-skip-pjax="true"
              rel="nofollow">
              <svg aria-hidden="true" class="octicon octicon-check select-menu-item-icon" height="16" version="1.1" viewBox="0 0 12 16" width="12"><path fill-rule="evenodd" d="M12 5l-8 8-4-4 1.5-1.5L4 10l6.5-6.5z"/></svg>
              <span class="select-menu-item-text css-truncate-target" title="@jupyter-widgets/notebook-manager@3.0.0-alpha.8">
                @jupyter-widgets/notebook-manager@3.0.0-alpha.8
              </span>
            </a>
            <a class="select-menu-item js-navigation-item js-navigation-open "
              href="/jupyter-widgets/ipywidgets/tree/%40jupyter-widgets/notebook-manager%403.0.0-alpha.7/docs/source/examples/Widget%20Styling.ipynb"
              data-name="@jupyter-widgets/notebook-manager@3.0.0-alpha.7"
              data-skip-pjax="true"
              rel="nofollow">
              <svg aria-hidden="true" class="octicon octicon-check select-menu-item-icon" height="16" version="1.1" viewBox="0 0 12 16" width="12"><path fill-rule="evenodd" d="M12 5l-8 8-4-4 1.5-1.5L4 10l6.5-6.5z"/></svg>
              <span class="select-menu-item-text css-truncate-target" title="@jupyter-widgets/notebook-manager@3.0.0-alpha.7">
                @jupyter-widgets/notebook-manager@3.0.0-alpha.7
              </span>
            </a>
            <a class="select-menu-item js-navigation-item js-navigation-open "
              href="/jupyter-widgets/ipywidgets/tree/%40jupyter-widgets/notebook-manager%403.0.0-alpha.6/docs/source/examples/Widget%20Styling.ipynb"
              data-name="@jupyter-widgets/notebook-manager@3.0.0-alpha.6"
              data-skip-pjax="true"
              rel="nofollow">
              <svg aria-hidden="true" class="octicon octicon-check select-menu-item-icon" height="16" version="1.1" viewBox="0 0 12 16" width="12"><path fill-rule="evenodd" d="M12 5l-8 8-4-4 1.5-1.5L4 10l6.5-6.5z"/></svg>
              <span class="select-menu-item-text css-truncate-target" title="@jupyter-widgets/notebook-manager@3.0.0-alpha.6">
                @jupyter-widgets/notebook-manager@3.0.0-alpha.6
              </span>
            </a>
            <a class="select-menu-item js-navigation-item js-navigation-open "
              href="/jupyter-widgets/ipywidgets/tree/%40jupyter-widgets/notebook-manager%403.0.0-alpha.5/docs/source/examples/Widget%20Styling.ipynb"
              data-name="@jupyter-widgets/notebook-manager@3.0.0-alpha.5"
              data-skip-pjax="true"
              rel="nofollow">
              <svg aria-hidden="true" class="octicon octicon-check select-menu-item-icon" height="16" version="1.1" viewBox="0 0 12 16" width="12"><path fill-rule="evenodd" d="M12 5l-8 8-4-4 1.5-1.5L4 10l6.5-6.5z"/></svg>
              <span class="select-menu-item-text css-truncate-target" title="@jupyter-widgets/notebook-manager@3.0.0-alpha.5">
                @jupyter-widgets/notebook-manager@3.0.0-alpha.5
              </span>
            </a>
            <a class="select-menu-item js-navigation-item js-navigation-open "
              href="/jupyter-widgets/ipywidgets/tree/%40jupyter-widgets/notebook-manager%403.0.0-alpha.4/docs/source/examples/Widget%20Styling.ipynb"
              data-name="@jupyter-widgets/notebook-manager@3.0.0-alpha.4"
              data-skip-pjax="true"
              rel="nofollow">
              <svg aria-hidden="true" class="octicon octicon-check select-menu-item-icon" height="16" version="1.1" viewBox="0 0 12 16" width="12"><path fill-rule="evenodd" d="M12 5l-8 8-4-4 1.5-1.5L4 10l6.5-6.5z"/></svg>
              <span class="select-menu-item-text css-truncate-target" title="@jupyter-widgets/notebook-manager@3.0.0-alpha.4">
                @jupyter-widgets/notebook-manager@3.0.0-alpha.4
              </span>
            </a>
            <a class="select-menu-item js-navigation-item js-navigation-open "
              href="/jupyter-widgets/ipywidgets/tree/%40jupyter-widgets/notebook-manager%403.0.0-alpha.3/docs/source/examples/Widget%20Styling.ipynb"
              data-name="@jupyter-widgets/notebook-manager@3.0.0-alpha.3"
              data-skip-pjax="true"
              rel="nofollow">
              <svg aria-hidden="true" class="octicon octicon-check select-menu-item-icon" height="16" version="1.1" viewBox="0 0 12 16" width="12"><path fill-rule="evenodd" d="M12 5l-8 8-4-4 1.5-1.5L4 10l6.5-6.5z"/></svg>
              <span class="select-menu-item-text css-truncate-target" title="@jupyter-widgets/notebook-manager@3.0.0-alpha.3">
                @jupyter-widgets/notebook-manager@3.0.0-alpha.3
              </span>
            </a>
            <a class="select-menu-item js-navigation-item js-navigation-open "
              href="/jupyter-widgets/ipywidgets/tree/%40jupyter-widgets/notebook-manager%403.0.0-alpha.2/docs/source/examples/Widget%20Styling.ipynb"
              data-name="@jupyter-widgets/notebook-manager@3.0.0-alpha.2"
              data-skip-pjax="true"
              rel="nofollow">
              <svg aria-hidden="true" class="octicon octicon-check select-menu-item-icon" height="16" version="1.1" viewBox="0 0 12 16" width="12"><path fill-rule="evenodd" d="M12 5l-8 8-4-4 1.5-1.5L4 10l6.5-6.5z"/></svg>
              <span class="select-menu-item-text css-truncate-target" title="@jupyter-widgets/notebook-manager@3.0.0-alpha.2">
                @jupyter-widgets/notebook-manager@3.0.0-alpha.2
              </span>
            </a>
            <a class="select-menu-item js-navigation-item js-navigation-open "
              href="/jupyter-widgets/ipywidgets/tree/%40jupyter-widgets/notebook-manager%403.0.0-alpha.1/docs/source/examples/Widget%20Styling.ipynb"
              data-name="@jupyter-widgets/notebook-manager@3.0.0-alpha.1"
              data-skip-pjax="true"
              rel="nofollow">
              <svg aria-hidden="true" class="octicon octicon-check select-menu-item-icon" height="16" version="1.1" viewBox="0 0 12 16" width="12"><path fill-rule="evenodd" d="M12 5l-8 8-4-4 1.5-1.5L4 10l6.5-6.5z"/></svg>
              <span class="select-menu-item-text css-truncate-target" title="@jupyter-widgets/notebook-manager@3.0.0-alpha.1">
                @jupyter-widgets/notebook-manager@3.0.0-alpha.1
              </span>
            </a>
            <a class="select-menu-item js-navigation-item js-navigation-open "
              href="/jupyter-widgets/ipywidgets/tree/%40jupyter-widgets/jupyterlab-manager%400.26.0/docs/source/examples/Widget%20Styling.ipynb"
              data-name="@jupyter-widgets/jupyterlab-manager@0.26.0"
              data-skip-pjax="true"
              rel="nofollow">
              <svg aria-hidden="true" class="octicon octicon-check select-menu-item-icon" height="16" version="1.1" viewBox="0 0 12 16" width="12"><path fill-rule="evenodd" d="M12 5l-8 8-4-4 1.5-1.5L4 10l6.5-6.5z"/></svg>
              <span class="select-menu-item-text css-truncate-target" title="@jupyter-widgets/jupyterlab-manager@0.26.0">
                @jupyter-widgets/jupyterlab-manager@0.26.0
              </span>
            </a>
            <a class="select-menu-item js-navigation-item js-navigation-open "
              href="/jupyter-widgets/ipywidgets/tree/%40jupyter-widgets/jupyterlab-manager%400.25.12/docs/source/examples/Widget%20Styling.ipynb"
              data-name="@jupyter-widgets/jupyterlab-manager@0.25.12"
              data-skip-pjax="true"
              rel="nofollow">
              <svg aria-hidden="true" class="octicon octicon-check select-menu-item-icon" height="16" version="1.1" viewBox="0 0 12 16" width="12"><path fill-rule="evenodd" d="M12 5l-8 8-4-4 1.5-1.5L4 10l6.5-6.5z"/></svg>
              <span class="select-menu-item-text css-truncate-target" title="@jupyter-widgets/jupyterlab-manager@0.25.12">
                @jupyter-widgets/jupyterlab-manager@0.25.12
              </span>
            </a>
            <a class="select-menu-item js-navigation-item js-navigation-open "
              href="/jupyter-widgets/ipywidgets/tree/%40jupyter-widgets/jupyterlab-manager%400.25.11/docs/source/examples/Widget%20Styling.ipynb"
              data-name="@jupyter-widgets/jupyterlab-manager@0.25.11"
              data-skip-pjax="true"
              rel="nofollow">
              <svg aria-hidden="true" class="octicon octicon-check select-menu-item-icon" height="16" version="1.1" viewBox="0 0 12 16" width="12"><path fill-rule="evenodd" d="M12 5l-8 8-4-4 1.5-1.5L4 10l6.5-6.5z"/></svg>
              <span class="select-menu-item-text css-truncate-target" title="@jupyter-widgets/jupyterlab-manager@0.25.11">
                @jupyter-widgets/jupyterlab-manager@0.25.11
              </span>
            </a>
            <a class="select-menu-item js-navigation-item js-navigation-open "
              href="/jupyter-widgets/ipywidgets/tree/%40jupyter-widgets/jupyterlab-manager%400.25.10/docs/source/examples/Widget%20Styling.ipynb"
              data-name="@jupyter-widgets/jupyterlab-manager@0.25.10"
              data-skip-pjax="true"
              rel="nofollow">
              <svg aria-hidden="true" class="octicon octicon-check select-menu-item-icon" height="16" version="1.1" viewBox="0 0 12 16" width="12"><path fill-rule="evenodd" d="M12 5l-8 8-4-4 1.5-1.5L4 10l6.5-6.5z"/></svg>
              <span class="select-menu-item-text css-truncate-target" title="@jupyter-widgets/jupyterlab-manager@0.25.10">
                @jupyter-widgets/jupyterlab-manager@0.25.10
              </span>
            </a>
            <a class="select-menu-item js-navigation-item js-navigation-open "
              href="/jupyter-widgets/ipywidgets/tree/%40jupyter-widgets/jupyterlab-manager%400.25.9/docs/source/examples/Widget%20Styling.ipynb"
              data-name="@jupyter-widgets/jupyterlab-manager@0.25.9"
              data-skip-pjax="true"
              rel="nofollow">
              <svg aria-hidden="true" class="octicon octicon-check select-menu-item-icon" height="16" version="1.1" viewBox="0 0 12 16" width="12"><path fill-rule="evenodd" d="M12 5l-8 8-4-4 1.5-1.5L4 10l6.5-6.5z"/></svg>
              <span class="select-menu-item-text css-truncate-target" title="@jupyter-widgets/jupyterlab-manager@0.25.9">
                @jupyter-widgets/jupyterlab-manager@0.25.9
              </span>
            </a>
            <a class="select-menu-item js-navigation-item js-navigation-open "
              href="/jupyter-widgets/ipywidgets/tree/%40jupyter-widgets/jupyterlab-manager%400.25.8/docs/source/examples/Widget%20Styling.ipynb"
              data-name="@jupyter-widgets/jupyterlab-manager@0.25.8"
              data-skip-pjax="true"
              rel="nofollow">
              <svg aria-hidden="true" class="octicon octicon-check select-menu-item-icon" height="16" version="1.1" viewBox="0 0 12 16" width="12"><path fill-rule="evenodd" d="M12 5l-8 8-4-4 1.5-1.5L4 10l6.5-6.5z"/></svg>
              <span class="select-menu-item-text css-truncate-target" title="@jupyter-widgets/jupyterlab-manager@0.25.8">
                @jupyter-widgets/jupyterlab-manager@0.25.8
              </span>
            </a>
            <a class="select-menu-item js-navigation-item js-navigation-open "
              href="/jupyter-widgets/ipywidgets/tree/%40jupyter-widgets/jupyterlab-manager%400.25.7/docs/source/examples/Widget%20Styling.ipynb"
              data-name="@jupyter-widgets/jupyterlab-manager@0.25.7"
              data-skip-pjax="true"
              rel="nofollow">
              <svg aria-hidden="true" class="octicon octicon-check select-menu-item-icon" height="16" version="1.1" viewBox="0 0 12 16" width="12"><path fill-rule="evenodd" d="M12 5l-8 8-4-4 1.5-1.5L4 10l6.5-6.5z"/></svg>
              <span class="select-menu-item-text css-truncate-target" title="@jupyter-widgets/jupyterlab-manager@0.25.7">
                @jupyter-widgets/jupyterlab-manager@0.25.7
              </span>
            </a>
            <a class="select-menu-item js-navigation-item js-navigation-open "
              href="/jupyter-widgets/ipywidgets/tree/%40jupyter-widgets/jupyterlab-manager%400.25.6/docs/source/examples/Widget%20Styling.ipynb"
              data-name="@jupyter-widgets/jupyterlab-manager@0.25.6"
              data-skip-pjax="true"
              rel="nofollow">
              <svg aria-hidden="true" class="octicon octicon-check select-menu-item-icon" height="16" version="1.1" viewBox="0 0 12 16" width="12"><path fill-rule="evenodd" d="M12 5l-8 8-4-4 1.5-1.5L4 10l6.5-6.5z"/></svg>
              <span class="select-menu-item-text css-truncate-target" title="@jupyter-widgets/jupyterlab-manager@0.25.6">
                @jupyter-widgets/jupyterlab-manager@0.25.6
              </span>
            </a>
            <a class="select-menu-item js-navigation-item js-navigation-open "
              href="/jupyter-widgets/ipywidgets/tree/%40jupyter-widgets/jupyterlab-manager%400.25.5/docs/source/examples/Widget%20Styling.ipynb"
              data-name="@jupyter-widgets/jupyterlab-manager@0.25.5"
              data-skip-pjax="true"
              rel="nofollow">
              <svg aria-hidden="true" class="octicon octicon-check select-menu-item-icon" height="16" version="1.1" viewBox="0 0 12 16" width="12"><path fill-rule="evenodd" d="M12 5l-8 8-4-4 1.5-1.5L4 10l6.5-6.5z"/></svg>
              <span class="select-menu-item-text css-truncate-target" title="@jupyter-widgets/jupyterlab-manager@0.25.5">
                @jupyter-widgets/jupyterlab-manager@0.25.5
              </span>
            </a>
            <a class="select-menu-item js-navigation-item js-navigation-open "
              href="/jupyter-widgets/ipywidgets/tree/%40jupyter-widgets/jupyterlab-manager%400.25.4/docs/source/examples/Widget%20Styling.ipynb"
              data-name="@jupyter-widgets/jupyterlab-manager@0.25.4"
              data-skip-pjax="true"
              rel="nofollow">
              <svg aria-hidden="true" class="octicon octicon-check select-menu-item-icon" height="16" version="1.1" viewBox="0 0 12 16" width="12"><path fill-rule="evenodd" d="M12 5l-8 8-4-4 1.5-1.5L4 10l6.5-6.5z"/></svg>
              <span class="select-menu-item-text css-truncate-target" title="@jupyter-widgets/jupyterlab-manager@0.25.4">
                @jupyter-widgets/jupyterlab-manager@0.25.4
              </span>
            </a>
            <a class="select-menu-item js-navigation-item js-navigation-open "
              href="/jupyter-widgets/ipywidgets/tree/%40jupyter-widgets/jupyterlab-manager%400.25.3/docs/source/examples/Widget%20Styling.ipynb"
              data-name="@jupyter-widgets/jupyterlab-manager@0.25.3"
              data-skip-pjax="true"
              rel="nofollow">
              <svg aria-hidden="true" class="octicon octicon-check select-menu-item-icon" height="16" version="1.1" viewBox="0 0 12 16" width="12"><path fill-rule="evenodd" d="M12 5l-8 8-4-4 1.5-1.5L4 10l6.5-6.5z"/></svg>
              <span class="select-menu-item-text css-truncate-target" title="@jupyter-widgets/jupyterlab-manager@0.25.3">
                @jupyter-widgets/jupyterlab-manager@0.25.3
              </span>
            </a>
            <a class="select-menu-item js-navigation-item js-navigation-open "
              href="/jupyter-widgets/ipywidgets/tree/%40jupyter-widgets/jupyterlab-manager%400.25.2/docs/source/examples/Widget%20Styling.ipynb"
              data-name="@jupyter-widgets/jupyterlab-manager@0.25.2"
              data-skip-pjax="true"
              rel="nofollow">
              <svg aria-hidden="true" class="octicon octicon-check select-menu-item-icon" height="16" version="1.1" viewBox="0 0 12 16" width="12"><path fill-rule="evenodd" d="M12 5l-8 8-4-4 1.5-1.5L4 10l6.5-6.5z"/></svg>
              <span class="select-menu-item-text css-truncate-target" title="@jupyter-widgets/jupyterlab-manager@0.25.2">
                @jupyter-widgets/jupyterlab-manager@0.25.2
              </span>
            </a>
            <a class="select-menu-item js-navigation-item js-navigation-open "
              href="/jupyter-widgets/ipywidgets/tree/%40jupyter-widgets/jupyterlab-manager%400.25.1/docs/source/examples/Widget%20Styling.ipynb"
              data-name="@jupyter-widgets/jupyterlab-manager@0.25.1"
              data-skip-pjax="true"
              rel="nofollow">
              <svg aria-hidden="true" class="octicon octicon-check select-menu-item-icon" height="16" version="1.1" viewBox="0 0 12 16" width="12"><path fill-rule="evenodd" d="M12 5l-8 8-4-4 1.5-1.5L4 10l6.5-6.5z"/></svg>
              <span class="select-menu-item-text css-truncate-target" title="@jupyter-widgets/jupyterlab-manager@0.25.1">
                @jupyter-widgets/jupyterlab-manager@0.25.1
              </span>
            </a>
            <a class="select-menu-item js-navigation-item js-navigation-open "
              href="/jupyter-widgets/ipywidgets/tree/%40jupyter-widgets/jupyterlab-manager%400.25.0/docs/source/examples/Widget%20Styling.ipynb"
              data-name="@jupyter-widgets/jupyterlab-manager@0.25.0"
              data-skip-pjax="true"
              rel="nofollow">
              <svg aria-hidden="true" class="octicon octicon-check select-menu-item-icon" height="16" version="1.1" viewBox="0 0 12 16" width="12"><path fill-rule="evenodd" d="M12 5l-8 8-4-4 1.5-1.5L4 10l6.5-6.5z"/></svg>
              <span class="select-menu-item-text css-truncate-target" title="@jupyter-widgets/jupyterlab-manager@0.25.0">
                @jupyter-widgets/jupyterlab-manager@0.25.0
              </span>
            </a>
            <a class="select-menu-item js-navigation-item js-navigation-open "
              href="/jupyter-widgets/ipywidgets/tree/%40jupyter-widgets/jupyterlab-manager%400.24.7/docs/source/examples/Widget%20Styling.ipynb"
              data-name="@jupyter-widgets/jupyterlab-manager@0.24.7"
              data-skip-pjax="true"
              rel="nofollow">
              <svg aria-hidden="true" class="octicon octicon-check select-menu-item-icon" height="16" version="1.1" viewBox="0 0 12 16" width="12"><path fill-rule="evenodd" d="M12 5l-8 8-4-4 1.5-1.5L4 10l6.5-6.5z"/></svg>
              <span class="select-menu-item-text css-truncate-target" title="@jupyter-widgets/jupyterlab-manager@0.24.7">
                @jupyter-widgets/jupyterlab-manager@0.24.7
              </span>
            </a>
            <a class="select-menu-item js-navigation-item js-navigation-open "
              href="/jupyter-widgets/ipywidgets/tree/%40jupyter-widgets/jupyterlab-manager%400.24.6/docs/source/examples/Widget%20Styling.ipynb"
              data-name="@jupyter-widgets/jupyterlab-manager@0.24.6"
              data-skip-pjax="true"
              rel="nofollow">
              <svg aria-hidden="true" class="octicon octicon-check select-menu-item-icon" height="16" version="1.1" viewBox="0 0 12 16" width="12"><path fill-rule="evenodd" d="M12 5l-8 8-4-4 1.5-1.5L4 10l6.5-6.5z"/></svg>
              <span class="select-menu-item-text css-truncate-target" title="@jupyter-widgets/jupyterlab-manager@0.24.6">
                @jupyter-widgets/jupyterlab-manager@0.24.6
              </span>
            </a>
            <a class="select-menu-item js-navigation-item js-navigation-open "
              href="/jupyter-widgets/ipywidgets/tree/%40jupyter-widgets/jupyterlab-manager%400.24.5/docs/source/examples/Widget%20Styling.ipynb"
              data-name="@jupyter-widgets/jupyterlab-manager@0.24.5"
              data-skip-pjax="true"
              rel="nofollow">
              <svg aria-hidden="true" class="octicon octicon-check select-menu-item-icon" height="16" version="1.1" viewBox="0 0 12 16" width="12"><path fill-rule="evenodd" d="M12 5l-8 8-4-4 1.5-1.5L4 10l6.5-6.5z"/></svg>
              <span class="select-menu-item-text css-truncate-target" title="@jupyter-widgets/jupyterlab-manager@0.24.5">
                @jupyter-widgets/jupyterlab-manager@0.24.5
              </span>
            </a>
            <a class="select-menu-item js-navigation-item js-navigation-open "
              href="/jupyter-widgets/ipywidgets/tree/%40jupyter-widgets/jupyterlab-manager%400.24.4/docs/source/examples/Widget%20Styling.ipynb"
              data-name="@jupyter-widgets/jupyterlab-manager@0.24.4"
              data-skip-pjax="true"
              rel="nofollow">
              <svg aria-hidden="true" class="octicon octicon-check select-menu-item-icon" height="16" version="1.1" viewBox="0 0 12 16" width="12"><path fill-rule="evenodd" d="M12 5l-8 8-4-4 1.5-1.5L4 10l6.5-6.5z"/></svg>
              <span class="select-menu-item-text css-truncate-target" title="@jupyter-widgets/jupyterlab-manager@0.24.4">
                @jupyter-widgets/jupyterlab-manager@0.24.4
              </span>
            </a>
            <a class="select-menu-item js-navigation-item js-navigation-open "
              href="/jupyter-widgets/ipywidgets/tree/%40jupyter-widgets/jupyterlab-manager%400.24.3/docs/source/examples/Widget%20Styling.ipynb"
              data-name="@jupyter-widgets/jupyterlab-manager@0.24.3"
              data-skip-pjax="true"
              rel="nofollow">
              <svg aria-hidden="true" class="octicon octicon-check select-menu-item-icon" height="16" version="1.1" viewBox="0 0 12 16" width="12"><path fill-rule="evenodd" d="M12 5l-8 8-4-4 1.5-1.5L4 10l6.5-6.5z"/></svg>
              <span class="select-menu-item-text css-truncate-target" title="@jupyter-widgets/jupyterlab-manager@0.24.3">
                @jupyter-widgets/jupyterlab-manager@0.24.3
              </span>
            </a>
            <a class="select-menu-item js-navigation-item js-navigation-open "
              href="/jupyter-widgets/ipywidgets/tree/%40jupyter-widgets/jupyterlab-manager%400.24.2/docs/source/examples/Widget%20Styling.ipynb"
              data-name="@jupyter-widgets/jupyterlab-manager@0.24.2"
              data-skip-pjax="true"
              rel="nofollow">
              <svg aria-hidden="true" class="octicon octicon-check select-menu-item-icon" height="16" version="1.1" viewBox="0 0 12 16" width="12"><path fill-rule="evenodd" d="M12 5l-8 8-4-4 1.5-1.5L4 10l6.5-6.5z"/></svg>
              <span class="select-menu-item-text css-truncate-target" title="@jupyter-widgets/jupyterlab-manager@0.24.2">
                @jupyter-widgets/jupyterlab-manager@0.24.2
              </span>
            </a>
            <a class="select-menu-item js-navigation-item js-navigation-open "
              href="/jupyter-widgets/ipywidgets/tree/%40jupyter-widgets/jupyterlab-manager%400.24.1/docs/source/examples/Widget%20Styling.ipynb"
              data-name="@jupyter-widgets/jupyterlab-manager@0.24.1"
              data-skip-pjax="true"
              rel="nofollow">
              <svg aria-hidden="true" class="octicon octicon-check select-menu-item-icon" height="16" version="1.1" viewBox="0 0 12 16" width="12"><path fill-rule="evenodd" d="M12 5l-8 8-4-4 1.5-1.5L4 10l6.5-6.5z"/></svg>
              <span class="select-menu-item-text css-truncate-target" title="@jupyter-widgets/jupyterlab-manager@0.24.1">
                @jupyter-widgets/jupyterlab-manager@0.24.1
              </span>
            </a>
            <a class="select-menu-item js-navigation-item js-navigation-open "
              href="/jupyter-widgets/ipywidgets/tree/%40jupyter-widgets/jupyterlab-manager%400.24.0/docs/source/examples/Widget%20Styling.ipynb"
              data-name="@jupyter-widgets/jupyterlab-manager@0.24.0"
              data-skip-pjax="true"
              rel="nofollow">
              <svg aria-hidden="true" class="octicon octicon-check select-menu-item-icon" height="16" version="1.1" viewBox="0 0 12 16" width="12"><path fill-rule="evenodd" d="M12 5l-8 8-4-4 1.5-1.5L4 10l6.5-6.5z"/></svg>
              <span class="select-menu-item-text css-truncate-target" title="@jupyter-widgets/jupyterlab-manager@0.24.0">
                @jupyter-widgets/jupyterlab-manager@0.24.0
              </span>
            </a>
            <a class="select-menu-item js-navigation-item js-navigation-open "
              href="/jupyter-widgets/ipywidgets/tree/%40jupyter-widgets/jupyterlab-manager%400.23.4/docs/source/examples/Widget%20Styling.ipynb"
              data-name="@jupyter-widgets/jupyterlab-manager@0.23.4"
              data-skip-pjax="true"
              rel="nofollow">
              <svg aria-hidden="true" class="octicon octicon-check select-menu-item-icon" height="16" version="1.1" viewBox="0 0 12 16" width="12"><path fill-rule="evenodd" d="M12 5l-8 8-4-4 1.5-1.5L4 10l6.5-6.5z"/></svg>
              <span class="select-menu-item-text css-truncate-target" title="@jupyter-widgets/jupyterlab-manager@0.23.4">
                @jupyter-widgets/jupyterlab-manager@0.23.4
              </span>
            </a>
            <a class="select-menu-item js-navigation-item js-navigation-open "
              href="/jupyter-widgets/ipywidgets/tree/%40jupyter-widgets/jupyterlab-manager%400.23.3/docs/source/examples/Widget%20Styling.ipynb"
              data-name="@jupyter-widgets/jupyterlab-manager@0.23.3"
              data-skip-pjax="true"
              rel="nofollow">
              <svg aria-hidden="true" class="octicon octicon-check select-menu-item-icon" height="16" version="1.1" viewBox="0 0 12 16" width="12"><path fill-rule="evenodd" d="M12 5l-8 8-4-4 1.5-1.5L4 10l6.5-6.5z"/></svg>
              <span class="select-menu-item-text css-truncate-target" title="@jupyter-widgets/jupyterlab-manager@0.23.3">
                @jupyter-widgets/jupyterlab-manager@0.23.3
              </span>
            </a>
            <a class="select-menu-item js-navigation-item js-navigation-open "
              href="/jupyter-widgets/ipywidgets/tree/%40jupyter-widgets/jupyterlab-manager%400.23.2/docs/source/examples/Widget%20Styling.ipynb"
              data-name="@jupyter-widgets/jupyterlab-manager@0.23.2"
              data-skip-pjax="true"
              rel="nofollow">
              <svg aria-hidden="true" class="octicon octicon-check select-menu-item-icon" height="16" version="1.1" viewBox="0 0 12 16" width="12"><path fill-rule="evenodd" d="M12 5l-8 8-4-4 1.5-1.5L4 10l6.5-6.5z"/></svg>
              <span class="select-menu-item-text css-truncate-target" title="@jupyter-widgets/jupyterlab-manager@0.23.2">
                @jupyter-widgets/jupyterlab-manager@0.23.2
              </span>
            </a>
            <a class="select-menu-item js-navigation-item js-navigation-open "
              href="/jupyter-widgets/ipywidgets/tree/%40jupyter-widgets/jupyterlab-manager%400.23.1/docs/source/examples/Widget%20Styling.ipynb"
              data-name="@jupyter-widgets/jupyterlab-manager@0.23.1"
              data-skip-pjax="true"
              rel="nofollow">
              <svg aria-hidden="true" class="octicon octicon-check select-menu-item-icon" height="16" version="1.1" viewBox="0 0 12 16" width="12"><path fill-rule="evenodd" d="M12 5l-8 8-4-4 1.5-1.5L4 10l6.5-6.5z"/></svg>
              <span class="select-menu-item-text css-truncate-target" title="@jupyter-widgets/jupyterlab-manager@0.23.1">
                @jupyter-widgets/jupyterlab-manager@0.23.1
              </span>
            </a>
            <a class="select-menu-item js-navigation-item js-navigation-open "
              href="/jupyter-widgets/ipywidgets/tree/%40jupyter-widgets/jupyterlab-manager%400.23.0/docs/source/examples/Widget%20Styling.ipynb"
              data-name="@jupyter-widgets/jupyterlab-manager@0.23.0"
              data-skip-pjax="true"
              rel="nofollow">
              <svg aria-hidden="true" class="octicon octicon-check select-menu-item-icon" height="16" version="1.1" viewBox="0 0 12 16" width="12"><path fill-rule="evenodd" d="M12 5l-8 8-4-4 1.5-1.5L4 10l6.5-6.5z"/></svg>
              <span class="select-menu-item-text css-truncate-target" title="@jupyter-widgets/jupyterlab-manager@0.23.0">
                @jupyter-widgets/jupyterlab-manager@0.23.0
              </span>
            </a>
            <a class="select-menu-item js-navigation-item js-navigation-open "
              href="/jupyter-widgets/ipywidgets/tree/%40jupyter-widgets/jupyterlab-manager%400.22.1/docs/source/examples/Widget%20Styling.ipynb"
              data-name="@jupyter-widgets/jupyterlab-manager@0.22.1"
              data-skip-pjax="true"
              rel="nofollow">
              <svg aria-hidden="true" class="octicon octicon-check select-menu-item-icon" height="16" version="1.1" viewBox="0 0 12 16" width="12"><path fill-rule="evenodd" d="M12 5l-8 8-4-4 1.5-1.5L4 10l6.5-6.5z"/></svg>
              <span class="select-menu-item-text css-truncate-target" title="@jupyter-widgets/jupyterlab-manager@0.22.1">
                @jupyter-widgets/jupyterlab-manager@0.22.1
              </span>
            </a>
            <a class="select-menu-item js-navigation-item js-navigation-open "
              href="/jupyter-widgets/ipywidgets/tree/%40jupyter-widgets/jupyterlab-manager%400.22.0/docs/source/examples/Widget%20Styling.ipynb"
              data-name="@jupyter-widgets/jupyterlab-manager@0.22.0"
              data-skip-pjax="true"
              rel="nofollow">
              <svg aria-hidden="true" class="octicon octicon-check select-menu-item-icon" height="16" version="1.1" viewBox="0 0 12 16" width="12"><path fill-rule="evenodd" d="M12 5l-8 8-4-4 1.5-1.5L4 10l6.5-6.5z"/></svg>
              <span class="select-menu-item-text css-truncate-target" title="@jupyter-widgets/jupyterlab-manager@0.22.0">
                @jupyter-widgets/jupyterlab-manager@0.22.0
              </span>
            </a>
            <a class="select-menu-item js-navigation-item js-navigation-open "
              href="/jupyter-widgets/ipywidgets/tree/%40jupyter-widgets/html-manager%400.10.0/docs/source/examples/Widget%20Styling.ipynb"
              data-name="@jupyter-widgets/html-manager@0.10.0"
              data-skip-pjax="true"
              rel="nofollow">
              <svg aria-hidden="true" class="octicon octicon-check select-menu-item-icon" height="16" version="1.1" viewBox="0 0 12 16" width="12"><path fill-rule="evenodd" d="M12 5l-8 8-4-4 1.5-1.5L4 10l6.5-6.5z"/></svg>
              <span class="select-menu-item-text css-truncate-target" title="@jupyter-widgets/html-manager@0.10.0">
                @jupyter-widgets/html-manager@0.10.0
              </span>
            </a>
            <a class="select-menu-item js-navigation-item js-navigation-open "
              href="/jupyter-widgets/ipywidgets/tree/%40jupyter-widgets/html-manager%400.9.3/docs/source/examples/Widget%20Styling.ipynb"
              data-name="@jupyter-widgets/html-manager@0.9.3"
              data-skip-pjax="true"
              rel="nofollow">
              <svg aria-hidden="true" class="octicon octicon-check select-menu-item-icon" height="16" version="1.1" viewBox="0 0 12 16" width="12"><path fill-rule="evenodd" d="M12 5l-8 8-4-4 1.5-1.5L4 10l6.5-6.5z"/></svg>
              <span class="select-menu-item-text css-truncate-target" title="@jupyter-widgets/html-manager@0.9.3">
                @jupyter-widgets/html-manager@0.9.3
              </span>
            </a>
            <a class="select-menu-item js-navigation-item js-navigation-open "
              href="/jupyter-widgets/ipywidgets/tree/%40jupyter-widgets/html-manager%400.9.2/docs/source/examples/Widget%20Styling.ipynb"
              data-name="@jupyter-widgets/html-manager@0.9.2"
              data-skip-pjax="true"
              rel="nofollow">
              <svg aria-hidden="true" class="octicon octicon-check select-menu-item-icon" height="16" version="1.1" viewBox="0 0 12 16" width="12"><path fill-rule="evenodd" d="M12 5l-8 8-4-4 1.5-1.5L4 10l6.5-6.5z"/></svg>
              <span class="select-menu-item-text css-truncate-target" title="@jupyter-widgets/html-manager@0.9.2">
                @jupyter-widgets/html-manager@0.9.2
              </span>
            </a>
            <a class="select-menu-item js-navigation-item js-navigation-open "
              href="/jupyter-widgets/ipywidgets/tree/%40jupyter-widgets/html-manager%400.9.1/docs/source/examples/Widget%20Styling.ipynb"
              data-name="@jupyter-widgets/html-manager@0.9.1"
              data-skip-pjax="true"
              rel="nofollow">
              <svg aria-hidden="true" class="octicon octicon-check select-menu-item-icon" height="16" version="1.1" viewBox="0 0 12 16" width="12"><path fill-rule="evenodd" d="M12 5l-8 8-4-4 1.5-1.5L4 10l6.5-6.5z"/></svg>
              <span class="select-menu-item-text css-truncate-target" title="@jupyter-widgets/html-manager@0.9.1">
                @jupyter-widgets/html-manager@0.9.1
              </span>
            </a>
            <a class="select-menu-item js-navigation-item js-navigation-open "
              href="/jupyter-widgets/ipywidgets/tree/%40jupyter-widgets/html-manager%400.9.0/docs/source/examples/Widget%20Styling.ipynb"
              data-name="@jupyter-widgets/html-manager@0.9.0"
              data-skip-pjax="true"
              rel="nofollow">
              <svg aria-hidden="true" class="octicon octicon-check select-menu-item-icon" height="16" version="1.1" viewBox="0 0 12 16" width="12"><path fill-rule="evenodd" d="M12 5l-8 8-4-4 1.5-1.5L4 10l6.5-6.5z"/></svg>
              <span class="select-menu-item-text css-truncate-target" title="@jupyter-widgets/html-manager@0.9.0">
                @jupyter-widgets/html-manager@0.9.0
              </span>
            </a>
            <a class="select-menu-item js-navigation-item js-navigation-open "
              href="/jupyter-widgets/ipywidgets/tree/%40jupyter-widgets/html-manager%400.8.2/docs/source/examples/Widget%20Styling.ipynb"
              data-name="@jupyter-widgets/html-manager@0.8.2"
              data-skip-pjax="true"
              rel="nofollow">
              <svg aria-hidden="true" class="octicon octicon-check select-menu-item-icon" height="16" version="1.1" viewBox="0 0 12 16" width="12"><path fill-rule="evenodd" d="M12 5l-8 8-4-4 1.5-1.5L4 10l6.5-6.5z"/></svg>
              <span class="select-menu-item-text css-truncate-target" title="@jupyter-widgets/html-manager@0.8.2">
                @jupyter-widgets/html-manager@0.8.2
              </span>
            </a>
        </div>

        <div class="select-menu-no-results">Nothing to show</div>
      </div>

    </div>
  </div>
</div>

    <div class="BtnGroup float-right">
      <a href="/jupyter-widgets/ipywidgets/find/master"
            class="js-pjax-capture-input btn btn-sm BtnGroup-item"
            data-pjax
            data-hotkey="t">
        Find file
      </a>
      <button aria-label="Copy file path to clipboard" class="js-zeroclipboard btn btn-sm BtnGroup-item tooltipped tooltipped-s" data-copied-hint="Copied!" type="button">Copy path</button>
    </div>
    <div class="breadcrumb js-zeroclipboard-target">
      <span class="repo-root js-repo-root"><span class="js-path-segment"><a href="/jupyter-widgets/ipywidgets"><span>ipywidgets</span></a></span></span><span class="separator">/</span><span class="js-path-segment"><a href="/jupyter-widgets/ipywidgets/tree/master/docs"><span>docs</span></a></span><span class="separator">/</span><span class="js-path-segment"><a href="/jupyter-widgets/ipywidgets/tree/master/docs/source"><span>source</span></a></span><span class="separator">/</span><span class="js-path-segment"><a href="/jupyter-widgets/ipywidgets/tree/master/docs/source/examples"><span>examples</span></a></span><span class="separator">/</span><strong class="final-path">Widget Styling.ipynb</strong>
    </div>
  </div>


  
  <div class="commit-tease">
      <span class="float-right">
        <a class="commit-tease-sha" href="/jupyter-widgets/ipywidgets/commit/22c2991ecd59a06c2e38f82c9198400b90a38ceb" data-pjax>
          22c2991
        </a>
        <relative-time datetime="2017-08-15T18:18:51Z">Aug 15, 2017</relative-time>
      </span>
      <div>
        <img alt="@jasongrout" class="avatar" height="20" src="https://avatars1.githubusercontent.com/u/192614?v=4&amp;s=40" width="20" />
        <a href="/jasongrout" class="user-mention" rel="contributor">jasongrout</a>
          <a href="/jupyter-widgets/ipywidgets/commit/22c2991ecd59a06c2e38f82c9198400b90a38ceb" class="message" data-pjax="true" title="Fix link for RTD">Fix link for RTD</a>
      </div>

    <div class="commit-tease-contributors">
      <button type="button" class="btn-link muted-link contributors-toggle" data-facebox="#blob_contributors_box">
        <strong>9</strong>
         contributors
      </button>
          <a class="avatar-link tooltipped tooltipped-s" aria-label="SylvainCorlay" href="/jupyter-widgets/ipywidgets/commits/a28007e3a298672ad03b863b2cf472d49b719f61/docs/source/examples/Widget%20Styling.ipynb?author=SylvainCorlay"><img alt="@SylvainCorlay" class="avatar" height="20" src="https://avatars1.githubusercontent.com/u/2397974?v=4&amp;s=40" width="20" /> </a>
    <a class="avatar-link tooltipped tooltipped-s" aria-label="jasongrout" href="/jupyter-widgets/ipywidgets/commits/a28007e3a298672ad03b863b2cf472d49b719f61/docs/source/examples/Widget%20Styling.ipynb?author=jasongrout"><img alt="@jasongrout" class="avatar" height="20" src="https://avatars1.githubusercontent.com/u/192614?v=4&amp;s=40" width="20" /> </a>
    <a class="avatar-link tooltipped tooltipped-s" aria-label="mwcraig" href="/jupyter-widgets/ipywidgets/commits/a28007e3a298672ad03b863b2cf472d49b719f61/docs/source/examples/Widget%20Styling.ipynb?author=mwcraig"><img alt="@mwcraig" class="avatar" height="20" src="https://avatars0.githubusercontent.com/u/1147167?v=4&amp;s=40" width="20" /> </a>
    <a class="avatar-link tooltipped tooltipped-s" aria-label="jdfreder" href="/jupyter-widgets/ipywidgets/commits/a28007e3a298672ad03b863b2cf472d49b719f61/docs/source/examples/Widget%20Styling.ipynb?author=jdfreder"><img alt="@jdfreder" class="avatar" height="20" src="https://avatars0.githubusercontent.com/u/3292874?v=4&amp;s=40" width="20" /> </a>
    <a class="avatar-link tooltipped tooltipped-s" aria-label="ivanov" href="/jupyter-widgets/ipywidgets/commits/a28007e3a298672ad03b863b2cf472d49b719f61/docs/source/examples/Widget%20Styling.ipynb?author=ivanov"><img alt="@ivanov" class="avatar" height="20" src="https://avatars2.githubusercontent.com/u/118211?v=4&amp;s=40" width="20" /> </a>
    <a class="avatar-link tooltipped tooltipped-s" aria-label="shackenberg" href="/jupyter-widgets/ipywidgets/commits/a28007e3a298672ad03b863b2cf472d49b719f61/docs/source/examples/Widget%20Styling.ipynb?author=shackenberg"><img alt="@shackenberg" class="avatar" height="20" src="https://avatars3.githubusercontent.com/u/1042973?v=4&amp;s=40" width="20" /> </a>
    <a class="avatar-link tooltipped tooltipped-s" aria-label="FermiParadox" href="/jupyter-widgets/ipywidgets/commits/a28007e3a298672ad03b863b2cf472d49b719f61/docs/source/examples/Widget%20Styling.ipynb?author=FermiParadox"><img alt="@FermiParadox" class="avatar" height="20" src="https://avatars1.githubusercontent.com/u/10809024?v=4&amp;s=40" width="20" /> </a>
    <a class="avatar-link tooltipped tooltipped-s" aria-label="willingc" href="/jupyter-widgets/ipywidgets/commits/a28007e3a298672ad03b863b2cf472d49b719f61/docs/source/examples/Widget%20Styling.ipynb?author=willingc"><img alt="@willingc" class="avatar" height="20" src="https://avatars0.githubusercontent.com/u/2680980?v=4&amp;s=40" width="20" /> </a>
    <a class="avatar-link tooltipped tooltipped-s" aria-label="ellisonbg" href="/jupyter-widgets/ipywidgets/commits/a28007e3a298672ad03b863b2cf472d49b719f61/docs/source/examples/Widget%20Styling.ipynb?author=ellisonbg"><img alt="@ellisonbg" class="avatar" height="20" src="https://avatars3.githubusercontent.com/u/27600?v=4&amp;s=40" width="20" /> </a>


    </div>

    <div id="blob_contributors_box" style="display:none">
      <h2 class="facebox-header" data-facebox-id="facebox-header">Users who have contributed to this file</h2>
      <ul class="facebox-user-list" data-facebox-id="facebox-description">
          <li class="facebox-user-list-item">
            <img alt="@SylvainCorlay" height="24" src="https://avatars3.githubusercontent.com/u/2397974?v=4&amp;s=48" width="24" />
            <a href="/SylvainCorlay">SylvainCorlay</a>
          </li>
          <li class="facebox-user-list-item">
            <img alt="@jasongrout" height="24" src="https://avatars3.githubusercontent.com/u/192614?v=4&amp;s=48" width="24" />
            <a href="/jasongrout">jasongrout</a>
          </li>
          <li class="facebox-user-list-item">
            <img alt="@mwcraig" height="24" src="https://avatars2.githubusercontent.com/u/1147167?v=4&amp;s=48" width="24" />
            <a href="/mwcraig">mwcraig</a>
          </li>
          <li class="facebox-user-list-item">
            <img alt="@jdfreder" height="24" src="https://avatars2.githubusercontent.com/u/3292874?v=4&amp;s=48" width="24" />
            <a href="/jdfreder">jdfreder</a>
          </li>
          <li class="facebox-user-list-item">
            <img alt="@ivanov" height="24" src="https://avatars0.githubusercontent.com/u/118211?v=4&amp;s=48" width="24" />
            <a href="/ivanov">ivanov</a>
          </li>
          <li class="facebox-user-list-item">
            <img alt="@shackenberg" height="24" src="https://avatars1.githubusercontent.com/u/1042973?v=4&amp;s=48" width="24" />
            <a href="/shackenberg">shackenberg</a>
          </li>
          <li class="facebox-user-list-item">
            <img alt="@FermiParadox" height="24" src="https://avatars3.githubusercontent.com/u/10809024?v=4&amp;s=48" width="24" />
            <a href="/FermiParadox">FermiParadox</a>
          </li>
          <li class="facebox-user-list-item">
            <img alt="@willingc" height="24" src="https://avatars2.githubusercontent.com/u/2680980?v=4&amp;s=48" width="24" />
            <a href="/willingc">willingc</a>
          </li>
          <li class="facebox-user-list-item">
            <img alt="@ellisonbg" height="24" src="https://avatars1.githubusercontent.com/u/27600?v=4&amp;s=48" width="24" />
            <a href="/ellisonbg">ellisonbg</a>
          </li>
      </ul>
    </div>
  </div>

  <div class="file">
    <div class="file-header">
  <div class="file-actions">

    <div class="BtnGroup">
      <a href="/jupyter-widgets/ipywidgets/raw/master/docs/source/examples/Widget%20Styling.ipynb" class="btn btn-sm BtnGroup-item" id="raw-url">Raw</a>
        <a href="/jupyter-widgets/ipywidgets/blame/master/docs/source/examples/Widget%20Styling.ipynb" class="btn btn-sm js-update-url-with-hash BtnGroup-item" data-hotkey="b">Blame</a>
      <a href="/jupyter-widgets/ipywidgets/commits/master/docs/source/examples/Widget%20Styling.ipynb" class="btn btn-sm BtnGroup-item" rel="nofollow">History</a>
    </div>


        <!-- '"` --><!-- </textarea></xmp> --></option></form><form accept-charset="UTF-8" action="/jupyter-widgets/ipywidgets/edit/master/docs/source/examples/Widget%20Styling.ipynb" class="inline-form js-update-url-with-hash" method="post"><div style="margin:0;padding:0;display:inline"><input name="utf8" type="hidden" value="&#x2713;" /><input name="authenticity_token" type="hidden" value="OWIlRpCuD5CQ6LpSCAI2L0uS6iBT7nr5J2Gv5HcLgf2h5CsGwIACQNXj0TT8voLGfwdX5Hm0VTTi1vCycmeBKA==" /></div>
          <button class="btn-octicon tooltipped tooltipped-nw" type="submit"
            aria-label="Edit the file in your fork of this project" data-hotkey="e" data-disable-with>
            <svg aria-hidden="true" class="octicon octicon-pencil" height="16" version="1.1" viewBox="0 0 14 16" width="14"><path fill-rule="evenodd" d="M0 12v3h3l8-8-3-3-8 8zm3 2H1v-2h1v1h1v1zm10.3-9.3L12 6 9 3l1.3-1.3a.996.996 0 0 1 1.41 0l1.59 1.59c.39.39.39 1.02 0 1.41z"/></svg>
          </button>
</form>        <!-- '"` --><!-- </textarea></xmp> --></option></form><form accept-charset="UTF-8" action="/jupyter-widgets/ipywidgets/delete/master/docs/source/examples/Widget%20Styling.ipynb" class="inline-form" method="post"><div style="margin:0;padding:0;display:inline"><input name="utf8" type="hidden" value="&#x2713;" /><input name="authenticity_token" type="hidden" value="GPF0r5VzMCXQ070TXDCuaKa+s4OyJ7Ha6K8l7bUex9oM6FfhA71PqC2w4aZ3H3t2BghXAOML5GT4ICyVj4THtg==" /></div>
          <button class="btn-octicon btn-octicon-danger tooltipped tooltipped-nw" type="submit"
            aria-label="Delete the file in your fork of this project" data-disable-with>
            <svg aria-hidden="true" class="octicon octicon-trashcan" height="16" version="1.1" viewBox="0 0 12 16" width="12"><path fill-rule="evenodd" d="M11 2H9c0-.55-.45-1-1-1H5c-.55 0-1 .45-1 1H2c-.55 0-1 .45-1 1v1c0 .55.45 1 1 1v9c0 .55.45 1 1 1h7c.55 0 1-.45 1-1V5c.55 0 1-.45 1-1V3c0-.55-.45-1-1-1zm-1 12H3V5h1v8h1V5h1v8h1V5h1v8h1V5h1v9zm1-10H2V3h9v1z"/></svg>
          </button>
</form>  </div>

  <div class="file-info">
      2621 lines (2620 sloc)
      <span class="file-info-divider"></span>
    84.4 KB
  </div>
</div>

    

  <div itemprop="text" class="blob-wrapper data type-jupyter-notebook">
      
  <div class="render-wrapper">
    <div class="render-container is-render-pending js-render-target "
      data-identity="632e1c03-78fc-4e97-b1a7-94c53f845f7f"
      data-host="https://render.githubusercontent.com"
      data-type="ipynb">
      <img alt="" class="octospinner" height="64" src="https://assets-cdn.github.com/images/spinners/octocat-spinner-128.gif" width="64" />
      <div class="render-viewer-error">Sorry, something went wrong. <a href="https://github.com/jupyter-widgets/ipywidgets/blob/master/docs/source/examples/Widget%20Styling.ipynb">Reload?</a></div>
      <div class="render-viewer-fatal">Sorry, we cannot display this file.</div>
      <div class="render-viewer-invalid">Sorry, this file is invalid so it cannot be displayed.</div>
      <iframe class="render-viewer" src="https://render.githubusercontent.com/view/ipynb?commit=67af059687205f10a339472f72cd86d2b34948c2&amp;enc_url=68747470733a2f2f7261772e67697468756275736572636f6e74656e742e636f6d2f6a7570797465722d776964676574732f697079776964676574732f363761663035393638373230356631306133333934373266373263643836643262333439343863322f646f63732f736f757263652f6578616d706c65732f5769646765742532305374796c696e672e6970796e62&amp;nwo=jupyter-widgets%2Fipywidgets&amp;path=docs%2Fsource%2Fexamples%2FWidget+Styling.ipynb&amp;repository_id=34138622&amp;repository_type=Repository#632e1c03-78fc-4e97-b1a7-94c53f845f7f" sandbox="allow-scripts allow-same-origin allow-top-navigation">Viewer requires iframe.</iframe>
    </div>
  </div>

  </div>

  </div>

  <button type="button" data-facebox="#jump-to-line" data-facebox-class="linejump" data-hotkey="l" class="d-none">Jump to Line</button>
  <div id="jump-to-line" style="display:none">
    <!-- '"` --><!-- </textarea></xmp> --></option></form><form accept-charset="UTF-8" action="" class="js-jump-to-line-form" method="get"><div style="margin:0;padding:0;display:inline"><input name="utf8" type="hidden" value="&#x2713;" /></div>
      <input class="form-control linejump-input js-jump-to-line-field" type="text" placeholder="Jump to line&hellip;" aria-label="Jump to line" autofocus>
      <button type="submit" class="btn">Go</button>
</form>  </div>

  </div>
  <div class="modal-backdrop js-touch-events"></div>
</div>

    </div>
  </div>

  </div>

      
<div class="footer container-lg px-3" role="contentinfo">
  <div class="position-relative d-flex flex-justify-between py-6 mt-6 f6 text-gray border-top border-gray-light ">
    <ul class="list-style-none d-flex flex-wrap ">
      <li class="mr-3">&copy; 2017 <span title="0.22776s from unicorn-4089672297-ctv0f">GitHub</span>, Inc.</li>
        <li class="mr-3"><a href="https://github.com/site/terms" data-ga-click="Footer, go to terms, text:terms">Terms</a></li>
        <li class="mr-3"><a href="https://github.com/site/privacy" data-ga-click="Footer, go to privacy, text:privacy">Privacy</a></li>
        <li class="mr-3"><a href="https://github.com/security" data-ga-click="Footer, go to security, text:security">Security</a></li>
        <li class="mr-3"><a href="https://status.github.com/" data-ga-click="Footer, go to status, text:status">Status</a></li>
        <li><a href="https://help.github.com" data-ga-click="Footer, go to help, text:help">Help</a></li>
    </ul>

    <a href="https://github.com" aria-label="Homepage" class="footer-octicon" title="GitHub">
      <svg aria-hidden="true" class="octicon octicon-mark-github" height="24" version="1.1" viewBox="0 0 16 16" width="24"><path fill-rule="evenodd" d="M8 0C3.58 0 0 3.58 0 8c0 3.54 2.29 6.53 5.47 7.59.4.07.55-.17.55-.38 0-.19-.01-.82-.01-1.49-2.01.37-2.53-.49-2.69-.94-.09-.23-.48-.94-.82-1.13-.28-.15-.68-.52-.01-.53.63-.01 1.08.58 1.23.82.72 1.21 1.87.87 2.33.66.07-.52.28-.87.51-1.07-1.78-.2-3.64-.89-3.64-3.95 0-.87.31-1.59.82-2.15-.08-.2-.36-1.02.08-2.12 0 0 .67-.21 2.2.82.64-.18 1.32-.27 2-.27.68 0 1.36.09 2 .27 1.53-1.04 2.2-.82 2.2-.82.44 1.1.16 1.92.08 2.12.51.56.82 1.27.82 2.15 0 3.07-1.87 3.75-3.65 3.95.29.25.54.73.54 1.48 0 1.07-.01 1.93-.01 2.2 0 .21.15.46.55.38A8.013 8.013 0 0 0 16 8c0-4.42-3.58-8-8-8z"/></svg>
</a>
    <ul class="list-style-none d-flex flex-wrap ">
        <li class="mr-3"><a href="https://github.com/contact" data-ga-click="Footer, go to contact, text:contact">Contact GitHub</a></li>
      <li class="mr-3"><a href="https://developer.github.com" data-ga-click="Footer, go to api, text:api">API</a></li>
      <li class="mr-3"><a href="https://training.github.com" data-ga-click="Footer, go to training, text:training">Training</a></li>
      <li class="mr-3"><a href="https://shop.github.com" data-ga-click="Footer, go to shop, text:shop">Shop</a></li>
        <li class="mr-3"><a href="https://github.com/blog" data-ga-click="Footer, go to blog, text:blog">Blog</a></li>
        <li><a href="https://github.com/about" data-ga-click="Footer, go to about, text:about">About</a></li>

    </ul>
  </div>
</div>



  <div id="ajax-error-message" class="ajax-error-message flash flash-error">
    <svg aria-hidden="true" class="octicon octicon-alert" height="16" version="1.1" viewBox="0 0 16 16" width="16"><path fill-rule="evenodd" d="M8.865 1.52c-.18-.31-.51-.5-.87-.5s-.69.19-.87.5L.275 13.5c-.18.31-.18.69 0 1 .19.31.52.5.87.5h13.7c.36 0 .69-.19.86-.5.17-.31.18-.69.01-1L8.865 1.52zM8.995 13h-2v-2h2v2zm0-3h-2V6h2v4z"/></svg>
    <button type="button" class="flash-close js-flash-close js-ajax-error-dismiss" aria-label="Dismiss error">
      <svg aria-hidden="true" class="octicon octicon-x" height="16" version="1.1" viewBox="0 0 12 16" width="12"><path fill-rule="evenodd" d="M7.48 8l3.75 3.75-1.48 1.48L6 9.48l-3.75 3.75-1.48-1.48L4.52 8 .77 4.25l1.48-1.48L6 6.52l3.75-3.75 1.48 1.48z"/></svg>
    </button>
    You can't perform that action at this time.
  </div>


    
    <script crossorigin="anonymous" integrity="sha256-RSc6DvWXLcRL8r40I/lK85ZAUAq8uyw18R0mIZE+9w8=" src="https://assets-cdn.github.com/assets/frameworks-45273a0ef5972dc44bf2be3423f94af39640500abcbb2c35f11d2621913ef70f.js"></script>
    
    <script async="async" crossorigin="anonymous" integrity="sha256-OZuEdM4oUQuue1zu8Z9F62zdkn3U7aGPm+e9Ce7bGHA=" src="https://assets-cdn.github.com/assets/github-399b8474ce28510bae7b5ceef19f45eb6cdd927dd4eda18f9be7bd09eedb1870.js"></script>
    
    
    
    
  <div class="js-stale-session-flash stale-session-flash flash flash-warn flash-banner d-none">
    <svg aria-hidden="true" class="octicon octicon-alert" height="16" version="1.1" viewBox="0 0 16 16" width="16"><path fill-rule="evenodd" d="M8.865 1.52c-.18-.31-.51-.5-.87-.5s-.69.19-.87.5L.275 13.5c-.18.31-.18.69 0 1 .19.31.52.5.87.5h13.7c.36 0 .69-.19.86-.5.17-.31.18-.69.01-1L8.865 1.52zM8.995 13h-2v-2h2v2zm0-3h-2V6h2v4z"/></svg>
    <span class="signed-in-tab-flash">You signed in with another tab or window. <a href="">Reload</a> to refresh your session.</span>
    <span class="signed-out-tab-flash">You signed out in another tab or window. <a href="">Reload</a> to refresh your session.</span>
  </div>
  <div class="facebox" id="facebox" style="display:none;">
  <div class="facebox-popup">
    <div class="facebox-content" role="dialog" aria-labelledby="facebox-header" aria-describedby="facebox-description">
    </div>
    <button type="button" class="facebox-close js-facebox-close" aria-label="Close modal">
      <svg aria-hidden="true" class="octicon octicon-x" height="16" version="1.1" viewBox="0 0 12 16" width="12"><path fill-rule="evenodd" d="M7.48 8l3.75 3.75-1.48 1.48L6 9.48l-3.75 3.75-1.48-1.48L4.52 8 .77 4.25l1.48-1.48L6 6.52l3.75-3.75 1.48 1.48z"/></svg>
    </button>
  </div>
</div>


  </body>
</html>

